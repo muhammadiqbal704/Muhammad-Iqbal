{
  "cells": [
    {
      "cell_type": "markdown",
      "metadata": {
        "id": "view-in-github",
        "colab_type": "text"
      },
      "source": [
        "<a href=\"https://colab.research.google.com/github/muhammadiqbal704/Muhammad-Iqbal/blob/main/practice2.ipynb\" target=\"_parent\"><img src=\"https://colab.research.google.com/assets/colab-badge.svg\" alt=\"Open In Colab\"/></a>"
      ]
    },
    {
      "cell_type": "markdown",
      "source": [
        "## 1. Data Preprocessing"
      ],
      "metadata": {
        "id": "TFN6Of7TWe57"
      }
    },
    {
      "cell_type": "code",
      "source": [
        "https://drive.google.com/file/d/1dFx_RUbMiWiH7M0ON1r9GU_Fqis9Tpul/view?usp=sharing"
      ],
      "metadata": {
        "id": "QmCeHJlZH1GV"
      },
      "execution_count": null,
      "outputs": []
    },
    {
      "cell_type": "code",
      "source": [
        "https://drive.google.com/file/d/1SO1xE3yrcQbeY-z5sJ6WXdQKHEUtGhIo/view?usp=sharing"
      ],
      "metadata": {
        "id": "ABbx_3aZG3Tj"
      },
      "execution_count": null,
      "outputs": []
    },
    {
      "cell_type": "code",
      "source": [
        "!gdown --id 1SO1xE3yrcQbeY-z5sJ6WXdQKHEUtGhIo"
      ],
      "metadata": {
        "colab": {
          "base_uri": "https://localhost:8080/"
        },
        "id": "i0y9SnotHSgM",
        "outputId": "cbb3f831-a191-494d-ba56-d83bd0d74251"
      },
      "execution_count": 29,
      "outputs": [
        {
          "output_type": "stream",
          "name": "stdout",
          "text": [
            "/usr/local/lib/python3.10/dist-packages/gdown/cli.py:121: FutureWarning: Option `--id` was deprecated in version 4.3.1 and will be removed in 5.0. You don't need to pass it anymore to use a file ID.\n",
            "  warnings.warn(\n",
            "Downloading...\n",
            "From: https://drive.google.com/uc?id=1SO1xE3yrcQbeY-z5sJ6WXdQKHEUtGhIo\n",
            "To: /content/cleandata.csv\n",
            "100% 341k/341k [00:00<00:00, 114MB/s]\n"
          ]
        }
      ]
    },
    {
      "cell_type": "markdown",
      "source": [
        "## Overview\n",
        "\n",
        "Practice for Data Analytic Class in Merdeka Belajar \n",
        "\n",
        "## Objecive\n",
        "\n",
        "• Retrieving data \n",
        "\n",
        "• Cleansing, integrating\n",
        "dan transforming data\n",
        "\n",
        "• Data Preparation\n",
        "\n",
        "• Exploratory Data\n",
        "Analysis\n",
        "\n",
        "• Data Visualization\n"
      ],
      "metadata": {
        "id": "cvS878SumIw0"
      }
    },
    {
      "cell_type": "code",
      "source": [],
      "metadata": {
        "id": "jBuTLIhcHzhm"
      },
      "execution_count": null,
      "outputs": []
    },
    {
      "cell_type": "markdown",
      "source": [
        "**About Dataset**\n",
        "\n",
        "This is a snapshot of a dataset created by Tony Pin on Melbourne real estate data. It was scraped from publicly available results posted every week from Domain.com.au. The dataset includes Address, Type of Real estate, Suburb, Method of Selling, Rooms, Price, Real Estate Agent, Date of Sale and distance from C.B.D.\n",
        "\n",
        "This is intended as a static (unchanging) snapshot of https://www.kaggle.com/anthonypino/melbourne-housing-market. It was created in September 2017. Additionally, homes with no Price have been removed.\n",
        "\n",
        "Dataset description & download https://www.kaggle.com/datasets/dansbecker/melbourne-housing-snapshot"
      ],
      "metadata": {
        "id": "0EcHLMXgZr5f"
      }
    },
    {
      "cell_type": "markdown",
      "source": [
        "**1.1 Importing Library**"
      ],
      "metadata": {
        "id": "IADUBKDnWr3s"
      }
    },
    {
      "cell_type": "code",
      "execution_count": 30,
      "metadata": {
        "id": "CvNhhTZtGoGV"
      },
      "outputs": [],
      "source": [
        "import pandas as pd\n",
        "import numpy as np\n",
        "import matplotlib.pyplot as plt\n",
        "from sklearn.preprocessing import LabelEncoder\n",
        "\n",
        "from sklearn.model_selection import train_test_split\n",
        "from sklearn.model_selection import cross_val_score\n",
        "from sklearn.model_selection import KFold\n",
        "from sklearn.metrics import accuracy_score"
      ]
    },
    {
      "cell_type": "markdown",
      "source": [
        "pada syntax ini perintah untuk mengimport data dari gdrive kedalam colab"
      ],
      "metadata": {
        "id": "QfD_9gBpk5xI"
      }
    },
    {
      "cell_type": "markdown",
      "source": [
        "**1.2 Importing Dataset**"
      ],
      "metadata": {
        "id": "Ydt444CDW46r"
      }
    },
    {
      "cell_type": "code",
      "execution_count": null,
      "metadata": {
        "id": "SpkeEnsdTfH3"
      },
      "outputs": [],
      "source": []
    },
    {
      "cell_type": "code",
      "source": [
        "import pandas as pd\n",
        "dataset = pd.read_csv('cleandata.csv')\n",
        "dataset"
      ],
      "metadata": {
        "colab": {
          "base_uri": "https://localhost:8080/",
          "height": 1000
        },
        "id": "N0fME_84YBzx",
        "outputId": "ed7de78a-1100-4424-953f-851ea2cd0830"
      },
      "execution_count": 31,
      "outputs": [
        {
          "output_type": "execute_result",
          "data": {
            "text/plain": [
              "                        Name  Gender          Relative  \\\n",
              "0                      JYOTI  Female             GEETA   \n",
              "1                   ABHISHEK    Male      MUKE SHKUMAR   \n",
              "2                        NaN    Male      RAJE SHKUMAR   \n",
              "3                 JAIPRAKASH    Male     KAMA LKISHORE   \n",
              "4                     SADDAM    Male            MUNN A   \n",
              "...                      ...     ...               ...   \n",
              "2122                  MANOJ     Male    SURE SH KUMAR    \n",
              "2123           SAGARGHOSHAL      NaN   SUMA N GHOSHAL    \n",
              "2124                     NaN    Male    PARM OD KUMAR    \n",
              "2125  CHANDER NARYAN PANDEY     Male         KULD EEP    \n",
              "2126                  DEPTY     Male        RAM AVTAR    \n",
              "\n",
              "                                                Address  AgeStart  AgeEnd  \\\n",
              "0     ,  , E 129 A SHOK NAGAR PRIDAY MARKET CHOWK DE...        16      17   \n",
              "1     , , JHUGGI NO. N- 78/102, SHIVANAND SCHOOL SEW...        19      20   \n",
              "2     , NO, 79, GALI NO. 3 KONDLI DELHI NEW A SHOK N...        19      20   \n",
              "3     , , 15/286, KALYANPURI DELHI KALYA NPURI EAST ...        24      25   \n",
              "4     , , 19-20, KABOOTAR MARKET WELCOM DELHI WELCO ...        21      22   \n",
              "...                                                 ...       ...     ...   \n",
              "2122  , , T 35 RAM A ROAD MOOLCHAND COLONY DELHI ADA...        24      25   \n",
              "2123  , M ale, I 158 SUND ER NAGARI DELHI NORTH EAST...        15      16   \n",
              "2124  , HOUSE N O 446 NAUGHRA MOHALLAH TUGLAKABAD VI...        15      16   \n",
              "2125  , , H NO 771 S EC 6 R K PURAM NEW DELHI R. K. ...        58      59   \n",
              "2126  , , HOUSE NO 81/13 CHURRIYA MOHALLAH N DELHI T...         5       7   \n",
              "\n",
              "      HeightStart  HeightEnd         Built  Date                       Dist  \\\n",
              "0           122.0      183.0  normalmedium   NaN  G.T.B. ENCLAVE/NORTH EAST   \n",
              "1           153.0      183.0          thin   NaN          PUNJABI BAGH/WEST   \n",
              "2           153.0      183.0          thin   NaN       NEW ASHOK NAGAR/EAST   \n",
              "3           153.0      183.0          thin   NaN                 KALYANPURI   \n",
              "4           153.0      183.0          thin   NaN          WELCOME/NORT EAST   \n",
              "...           ...        ...           ...   ...                        ...   \n",
              "2122        153.0      275.0          thin   NaN    ADARSH NAGAR/NORTH WEST   \n",
              "2123        153.0       31.0  normalmedium   NaN      NAND NAGRI/NORTH EAST   \n",
              "2124        153.0      214.0          thin   NaN    GOVIND PURI/SOUTH- EAST   \n",
              "2125        153.0       31.0  normalmedium   NaN          R. K. PURAM/SOUTH   \n",
              "2126          NaN        NaN  normalmedium   NaN    GOVIND PURI/SOUTH- EAST   \n",
              "\n",
              "      State  \n",
              "0     DELHI  \n",
              "1       DEL  \n",
              "2        DE  \n",
              "3       EAS  \n",
              "4     DELHI  \n",
              "...     ...  \n",
              "2122  DELHI  \n",
              "2123  DELHI  \n",
              "2124  DELHI  \n",
              "2125      D  \n",
              "2126  DELHI  \n",
              "\n",
              "[2127 rows x 12 columns]"
            ],
            "text/html": [
              "\n",
              "  <div id=\"df-712d8ff6-29e9-494f-acb9-17854d5cba63\">\n",
              "    <div class=\"colab-df-container\">\n",
              "      <div>\n",
              "<style scoped>\n",
              "    .dataframe tbody tr th:only-of-type {\n",
              "        vertical-align: middle;\n",
              "    }\n",
              "\n",
              "    .dataframe tbody tr th {\n",
              "        vertical-align: top;\n",
              "    }\n",
              "\n",
              "    .dataframe thead th {\n",
              "        text-align: right;\n",
              "    }\n",
              "</style>\n",
              "<table border=\"1\" class=\"dataframe\">\n",
              "  <thead>\n",
              "    <tr style=\"text-align: right;\">\n",
              "      <th></th>\n",
              "      <th>Name</th>\n",
              "      <th>Gender</th>\n",
              "      <th>Relative</th>\n",
              "      <th>Address</th>\n",
              "      <th>AgeStart</th>\n",
              "      <th>AgeEnd</th>\n",
              "      <th>HeightStart</th>\n",
              "      <th>HeightEnd</th>\n",
              "      <th>Built</th>\n",
              "      <th>Date</th>\n",
              "      <th>Dist</th>\n",
              "      <th>State</th>\n",
              "    </tr>\n",
              "  </thead>\n",
              "  <tbody>\n",
              "    <tr>\n",
              "      <th>0</th>\n",
              "      <td>JYOTI</td>\n",
              "      <td>Female</td>\n",
              "      <td>GEETA</td>\n",
              "      <td>,  , E 129 A SHOK NAGAR PRIDAY MARKET CHOWK DE...</td>\n",
              "      <td>16</td>\n",
              "      <td>17</td>\n",
              "      <td>122.0</td>\n",
              "      <td>183.0</td>\n",
              "      <td>normalmedium</td>\n",
              "      <td>NaN</td>\n",
              "      <td>G.T.B. ENCLAVE/NORTH EAST</td>\n",
              "      <td>DELHI</td>\n",
              "    </tr>\n",
              "    <tr>\n",
              "      <th>1</th>\n",
              "      <td>ABHISHEK</td>\n",
              "      <td>Male</td>\n",
              "      <td>MUKE SHKUMAR</td>\n",
              "      <td>, , JHUGGI NO. N- 78/102, SHIVANAND SCHOOL SEW...</td>\n",
              "      <td>19</td>\n",
              "      <td>20</td>\n",
              "      <td>153.0</td>\n",
              "      <td>183.0</td>\n",
              "      <td>thin</td>\n",
              "      <td>NaN</td>\n",
              "      <td>PUNJABI BAGH/WEST</td>\n",
              "      <td>DEL</td>\n",
              "    </tr>\n",
              "    <tr>\n",
              "      <th>2</th>\n",
              "      <td>NaN</td>\n",
              "      <td>Male</td>\n",
              "      <td>RAJE SHKUMAR</td>\n",
              "      <td>, NO, 79, GALI NO. 3 KONDLI DELHI NEW A SHOK N...</td>\n",
              "      <td>19</td>\n",
              "      <td>20</td>\n",
              "      <td>153.0</td>\n",
              "      <td>183.0</td>\n",
              "      <td>thin</td>\n",
              "      <td>NaN</td>\n",
              "      <td>NEW ASHOK NAGAR/EAST</td>\n",
              "      <td>DE</td>\n",
              "    </tr>\n",
              "    <tr>\n",
              "      <th>3</th>\n",
              "      <td>JAIPRAKASH</td>\n",
              "      <td>Male</td>\n",
              "      <td>KAMA LKISHORE</td>\n",
              "      <td>, , 15/286, KALYANPURI DELHI KALYA NPURI EAST ...</td>\n",
              "      <td>24</td>\n",
              "      <td>25</td>\n",
              "      <td>153.0</td>\n",
              "      <td>183.0</td>\n",
              "      <td>thin</td>\n",
              "      <td>NaN</td>\n",
              "      <td>KALYANPURI</td>\n",
              "      <td>EAS</td>\n",
              "    </tr>\n",
              "    <tr>\n",
              "      <th>4</th>\n",
              "      <td>SADDAM</td>\n",
              "      <td>Male</td>\n",
              "      <td>MUNN A</td>\n",
              "      <td>, , 19-20, KABOOTAR MARKET WELCOM DELHI WELCO ...</td>\n",
              "      <td>21</td>\n",
              "      <td>22</td>\n",
              "      <td>153.0</td>\n",
              "      <td>183.0</td>\n",
              "      <td>thin</td>\n",
              "      <td>NaN</td>\n",
              "      <td>WELCOME/NORT EAST</td>\n",
              "      <td>DELHI</td>\n",
              "    </tr>\n",
              "    <tr>\n",
              "      <th>...</th>\n",
              "      <td>...</td>\n",
              "      <td>...</td>\n",
              "      <td>...</td>\n",
              "      <td>...</td>\n",
              "      <td>...</td>\n",
              "      <td>...</td>\n",
              "      <td>...</td>\n",
              "      <td>...</td>\n",
              "      <td>...</td>\n",
              "      <td>...</td>\n",
              "      <td>...</td>\n",
              "      <td>...</td>\n",
              "    </tr>\n",
              "    <tr>\n",
              "      <th>2122</th>\n",
              "      <td>MANOJ</td>\n",
              "      <td>Male</td>\n",
              "      <td>SURE SH KUMAR</td>\n",
              "      <td>, , T 35 RAM A ROAD MOOLCHAND COLONY DELHI ADA...</td>\n",
              "      <td>24</td>\n",
              "      <td>25</td>\n",
              "      <td>153.0</td>\n",
              "      <td>275.0</td>\n",
              "      <td>thin</td>\n",
              "      <td>NaN</td>\n",
              "      <td>ADARSH NAGAR/NORTH WEST</td>\n",
              "      <td>DELHI</td>\n",
              "    </tr>\n",
              "    <tr>\n",
              "      <th>2123</th>\n",
              "      <td>SAGARGHOSHAL</td>\n",
              "      <td>NaN</td>\n",
              "      <td>SUMA N GHOSHAL</td>\n",
              "      <td>, M ale, I 158 SUND ER NAGARI DELHI NORTH EAST...</td>\n",
              "      <td>15</td>\n",
              "      <td>16</td>\n",
              "      <td>153.0</td>\n",
              "      <td>31.0</td>\n",
              "      <td>normalmedium</td>\n",
              "      <td>NaN</td>\n",
              "      <td>NAND NAGRI/NORTH EAST</td>\n",
              "      <td>DELHI</td>\n",
              "    </tr>\n",
              "    <tr>\n",
              "      <th>2124</th>\n",
              "      <td>NaN</td>\n",
              "      <td>Male</td>\n",
              "      <td>PARM OD KUMAR</td>\n",
              "      <td>, HOUSE N O 446 NAUGHRA MOHALLAH TUGLAKABAD VI...</td>\n",
              "      <td>15</td>\n",
              "      <td>16</td>\n",
              "      <td>153.0</td>\n",
              "      <td>214.0</td>\n",
              "      <td>thin</td>\n",
              "      <td>NaN</td>\n",
              "      <td>GOVIND PURI/SOUTH- EAST</td>\n",
              "      <td>DELHI</td>\n",
              "    </tr>\n",
              "    <tr>\n",
              "      <th>2125</th>\n",
              "      <td>CHANDER NARYAN PANDEY</td>\n",
              "      <td>Male</td>\n",
              "      <td>KULD EEP</td>\n",
              "      <td>, , H NO 771 S EC 6 R K PURAM NEW DELHI R. K. ...</td>\n",
              "      <td>58</td>\n",
              "      <td>59</td>\n",
              "      <td>153.0</td>\n",
              "      <td>31.0</td>\n",
              "      <td>normalmedium</td>\n",
              "      <td>NaN</td>\n",
              "      <td>R. K. PURAM/SOUTH</td>\n",
              "      <td>D</td>\n",
              "    </tr>\n",
              "    <tr>\n",
              "      <th>2126</th>\n",
              "      <td>DEPTY</td>\n",
              "      <td>Male</td>\n",
              "      <td>RAM AVTAR</td>\n",
              "      <td>, , HOUSE NO 81/13 CHURRIYA MOHALLAH N DELHI T...</td>\n",
              "      <td>5</td>\n",
              "      <td>7</td>\n",
              "      <td>NaN</td>\n",
              "      <td>NaN</td>\n",
              "      <td>normalmedium</td>\n",
              "      <td>NaN</td>\n",
              "      <td>GOVIND PURI/SOUTH- EAST</td>\n",
              "      <td>DELHI</td>\n",
              "    </tr>\n",
              "  </tbody>\n",
              "</table>\n",
              "<p>2127 rows × 12 columns</p>\n",
              "</div>\n",
              "      <button class=\"colab-df-convert\" onclick=\"convertToInteractive('df-712d8ff6-29e9-494f-acb9-17854d5cba63')\"\n",
              "              title=\"Convert this dataframe to an interactive table.\"\n",
              "              style=\"display:none;\">\n",
              "        \n",
              "  <svg xmlns=\"http://www.w3.org/2000/svg\" height=\"24px\"viewBox=\"0 0 24 24\"\n",
              "       width=\"24px\">\n",
              "    <path d=\"M0 0h24v24H0V0z\" fill=\"none\"/>\n",
              "    <path d=\"M18.56 5.44l.94 2.06.94-2.06 2.06-.94-2.06-.94-.94-2.06-.94 2.06-2.06.94zm-11 1L8.5 8.5l.94-2.06 2.06-.94-2.06-.94L8.5 2.5l-.94 2.06-2.06.94zm10 10l.94 2.06.94-2.06 2.06-.94-2.06-.94-.94-2.06-.94 2.06-2.06.94z\"/><path d=\"M17.41 7.96l-1.37-1.37c-.4-.4-.92-.59-1.43-.59-.52 0-1.04.2-1.43.59L10.3 9.45l-7.72 7.72c-.78.78-.78 2.05 0 2.83L4 21.41c.39.39.9.59 1.41.59.51 0 1.02-.2 1.41-.59l7.78-7.78 2.81-2.81c.8-.78.8-2.07 0-2.86zM5.41 20L4 18.59l7.72-7.72 1.47 1.35L5.41 20z\"/>\n",
              "  </svg>\n",
              "      </button>\n",
              "      \n",
              "  <style>\n",
              "    .colab-df-container {\n",
              "      display:flex;\n",
              "      flex-wrap:wrap;\n",
              "      gap: 12px;\n",
              "    }\n",
              "\n",
              "    .colab-df-convert {\n",
              "      background-color: #E8F0FE;\n",
              "      border: none;\n",
              "      border-radius: 50%;\n",
              "      cursor: pointer;\n",
              "      display: none;\n",
              "      fill: #1967D2;\n",
              "      height: 32px;\n",
              "      padding: 0 0 0 0;\n",
              "      width: 32px;\n",
              "    }\n",
              "\n",
              "    .colab-df-convert:hover {\n",
              "      background-color: #E2EBFA;\n",
              "      box-shadow: 0px 1px 2px rgba(60, 64, 67, 0.3), 0px 1px 3px 1px rgba(60, 64, 67, 0.15);\n",
              "      fill: #174EA6;\n",
              "    }\n",
              "\n",
              "    [theme=dark] .colab-df-convert {\n",
              "      background-color: #3B4455;\n",
              "      fill: #D2E3FC;\n",
              "    }\n",
              "\n",
              "    [theme=dark] .colab-df-convert:hover {\n",
              "      background-color: #434B5C;\n",
              "      box-shadow: 0px 1px 3px 1px rgba(0, 0, 0, 0.15);\n",
              "      filter: drop-shadow(0px 1px 2px rgba(0, 0, 0, 0.3));\n",
              "      fill: #FFFFFF;\n",
              "    }\n",
              "  </style>\n",
              "\n",
              "      <script>\n",
              "        const buttonEl =\n",
              "          document.querySelector('#df-712d8ff6-29e9-494f-acb9-17854d5cba63 button.colab-df-convert');\n",
              "        buttonEl.style.display =\n",
              "          google.colab.kernel.accessAllowed ? 'block' : 'none';\n",
              "\n",
              "        async function convertToInteractive(key) {\n",
              "          const element = document.querySelector('#df-712d8ff6-29e9-494f-acb9-17854d5cba63');\n",
              "          const dataTable =\n",
              "            await google.colab.kernel.invokeFunction('convertToInteractive',\n",
              "                                                     [key], {});\n",
              "          if (!dataTable) return;\n",
              "\n",
              "          const docLinkHtml = 'Like what you see? Visit the ' +\n",
              "            '<a target=\"_blank\" href=https://colab.research.google.com/notebooks/data_table.ipynb>data table notebook</a>'\n",
              "            + ' to learn more about interactive tables.';\n",
              "          element.innerHTML = '';\n",
              "          dataTable['output_type'] = 'display_data';\n",
              "          await google.colab.output.renderOutput(dataTable, element);\n",
              "          const docLink = document.createElement('div');\n",
              "          docLink.innerHTML = docLinkHtml;\n",
              "          element.appendChild(docLink);\n",
              "        }\n",
              "      </script>\n",
              "    </div>\n",
              "  </div>\n",
              "  "
            ]
          },
          "metadata": {},
          "execution_count": 31
        }
      ]
    },
    {
      "cell_type": "markdown",
      "source": [],
      "metadata": {
        "id": "V_yscGFHlHCP"
      }
    },
    {
      "cell_type": "markdown",
      "source": [
        "## 2. Exploratory Data"
      ],
      "metadata": {
        "id": "UDDwMkOVdAS-"
      }
    },
    {
      "cell_type": "code",
      "source": [
        "dataset.shape"
      ],
      "metadata": {
        "colab": {
          "base_uri": "https://localhost:8080/"
        },
        "id": "gfY3IjMzdDsN",
        "outputId": "f813805d-4192-4633-ef5c-480587ad842b"
      },
      "execution_count": 32,
      "outputs": [
        {
          "output_type": "execute_result",
          "data": {
            "text/plain": [
              "(2127, 12)"
            ]
          },
          "metadata": {},
          "execution_count": 32
        }
      ]
    },
    {
      "cell_type": "code",
      "source": [
        "dataset.columns"
      ],
      "metadata": {
        "colab": {
          "base_uri": "https://localhost:8080/"
        },
        "id": "v2bT3bcCdad5",
        "outputId": "8cdde2ab-cb0e-4b8c-e8fd-ed9bc8f941e3"
      },
      "execution_count": 33,
      "outputs": [
        {
          "output_type": "execute_result",
          "data": {
            "text/plain": [
              "Index(['Name', 'Gender', 'Relative', 'Address', 'AgeStart', 'AgeEnd',\n",
              "       'HeightStart', 'HeightEnd', 'Built', 'Date', 'Dist', 'State'],\n",
              "      dtype='object')"
            ]
          },
          "metadata": {},
          "execution_count": 33
        }
      ]
    },
    {
      "cell_type": "code",
      "source": [
        "dataset.dtypes"
      ],
      "metadata": {
        "colab": {
          "base_uri": "https://localhost:8080/"
        },
        "id": "DGucyPqGdstV",
        "outputId": "7e7ec3e3-89a0-491a-fe39-ca9cd0c47286"
      },
      "execution_count": 34,
      "outputs": [
        {
          "output_type": "execute_result",
          "data": {
            "text/plain": [
              "Name            object\n",
              "Gender          object\n",
              "Relative        object\n",
              "Address         object\n",
              "AgeStart         int64\n",
              "AgeEnd           int64\n",
              "HeightStart    float64\n",
              "HeightEnd      float64\n",
              "Built           object\n",
              "Date           float64\n",
              "Dist            object\n",
              "State           object\n",
              "dtype: object"
            ]
          },
          "metadata": {},
          "execution_count": 34
        }
      ]
    },
    {
      "cell_type": "code",
      "source": [
        "dataset.info()"
      ],
      "metadata": {
        "colab": {
          "base_uri": "https://localhost:8080/"
        },
        "id": "R5lpoJMgdqdl",
        "outputId": "ffb9dc36-44c3-4768-f2af-a0c1a0e97f72"
      },
      "execution_count": 35,
      "outputs": [
        {
          "output_type": "stream",
          "name": "stdout",
          "text": [
            "<class 'pandas.core.frame.DataFrame'>\n",
            "RangeIndex: 2127 entries, 0 to 2126\n",
            "Data columns (total 12 columns):\n",
            " #   Column       Non-Null Count  Dtype  \n",
            "---  ------       --------------  -----  \n",
            " 0   Name         1560 non-null   object \n",
            " 1   Gender       2010 non-null   object \n",
            " 2   Relative     2125 non-null   object \n",
            " 3   Address      2127 non-null   object \n",
            " 4   AgeStart     2127 non-null   int64  \n",
            " 5   AgeEnd       2127 non-null   int64  \n",
            " 6   HeightStart  2094 non-null   float64\n",
            " 7   HeightEnd    2094 non-null   float64\n",
            " 8   Built        2115 non-null   object \n",
            " 9   Date         0 non-null      float64\n",
            " 10  Dist         2127 non-null   object \n",
            " 11  State        1996 non-null   object \n",
            "dtypes: float64(3), int64(2), object(7)\n",
            "memory usage: 199.5+ KB\n"
          ]
        }
      ]
    },
    {
      "cell_type": "code",
      "source": [
        "dataset.nunique()"
      ],
      "metadata": {
        "colab": {
          "base_uri": "https://localhost:8080/"
        },
        "id": "iAJrbGiuf-8c",
        "outputId": "f208fb9b-7d42-4111-d16d-f8fb2a63574d"
      },
      "execution_count": 36,
      "outputs": [
        {
          "output_type": "execute_result",
          "data": {
            "text/plain": [
              "Name           1212\n",
              "Gender            2\n",
              "Relative       1776\n",
              "Address        2109\n",
              "AgeStart         83\n",
              "AgeEnd           84\n",
              "HeightStart      17\n",
              "HeightEnd        24\n",
              "Built             7\n",
              "Date              0\n",
              "Dist            174\n",
              "State            14\n",
              "dtype: int64"
            ]
          },
          "metadata": {},
          "execution_count": 36
        }
      ]
    },
    {
      "cell_type": "markdown",
      "source": [
        "**2.1 Handling Missing Value**"
      ],
      "metadata": {
        "id": "SsvcPPw9ekvS"
      }
    },
    {
      "cell_type": "markdown",
      "source": [
        "jadi kata perintah nunique untuk missing value"
      ],
      "metadata": {
        "id": "Kj03ON-JiqT-"
      }
    },
    {
      "cell_type": "markdown",
      "source": [
        "Let's assume unknown value as missing value since unknown means not known or no values"
      ],
      "metadata": {
        "id": "tkkOl04Ee_xV"
      }
    },
    {
      "cell_type": "code",
      "source": [
        "dataset.isnull().sum()"
      ],
      "metadata": {
        "colab": {
          "base_uri": "https://localhost:8080/"
        },
        "id": "rsrJsSO8fW7M",
        "outputId": "fe258a32-340e-4605-8177-e001369b7f62"
      },
      "execution_count": 37,
      "outputs": [
        {
          "output_type": "execute_result",
          "data": {
            "text/plain": [
              "Name            567\n",
              "Gender          117\n",
              "Relative          2\n",
              "Address           0\n",
              "AgeStart          0\n",
              "AgeEnd            0\n",
              "HeightStart      33\n",
              "HeightEnd        33\n",
              "Built            12\n",
              "Date           2127\n",
              "Dist              0\n",
              "State           131\n",
              "dtype: int64"
            ]
          },
          "metadata": {},
          "execution_count": 37
        }
      ]
    },
    {
      "cell_type": "markdown",
      "source": [
        "codingan perintah untuk memunculkan missing value apda hasil diatas"
      ],
      "metadata": {
        "id": "cpL-sbrQi31i"
      }
    },
    {
      "cell_type": "code",
      "source": [
        "dataset['Name'].dtypes"
      ],
      "metadata": {
        "colab": {
          "base_uri": "https://localhost:8080/"
        },
        "id": "hw2FxOlorXI8",
        "outputId": "61d9516e-4f1d-4c09-c486-d9e73b5af0f7"
      },
      "execution_count": 40,
      "outputs": [
        {
          "output_type": "execute_result",
          "data": {
            "text/plain": [
              "dtype('O')"
            ]
          },
          "metadata": {},
          "execution_count": 40
        }
      ]
    },
    {
      "cell_type": "code",
      "source": [
        "dataset['Gender'].dtypes"
      ],
      "metadata": {
        "colab": {
          "base_uri": "https://localhost:8080/"
        },
        "id": "1ZQ3-sq0rg0J",
        "outputId": "445570d5-5a9b-4116-ccef-6222f62019d7"
      },
      "execution_count": 41,
      "outputs": [
        {
          "output_type": "execute_result",
          "data": {
            "text/plain": [
              "dtype('O')"
            ]
          },
          "metadata": {},
          "execution_count": 41
        }
      ]
    },
    {
      "cell_type": "code",
      "source": [
        "dataset['Relative'].dtypes"
      ],
      "metadata": {
        "colab": {
          "base_uri": "https://localhost:8080/"
        },
        "id": "VMWvLZjcrkuY",
        "outputId": "47adc7c9-53ea-4c04-bf21-cc4649ed835b"
      },
      "execution_count": 42,
      "outputs": [
        {
          "output_type": "execute_result",
          "data": {
            "text/plain": [
              "dtype('O')"
            ]
          },
          "metadata": {},
          "execution_count": 42
        }
      ]
    },
    {
      "cell_type": "code",
      "source": [
        "dataset['HeightStart'].dtypes"
      ],
      "metadata": {
        "colab": {
          "base_uri": "https://localhost:8080/"
        },
        "id": "TDKDGdswrlUm",
        "outputId": "96d0ec92-b1b1-471a-c581-6ca6ac52688e"
      },
      "execution_count": 43,
      "outputs": [
        {
          "output_type": "execute_result",
          "data": {
            "text/plain": [
              "dtype('float64')"
            ]
          },
          "metadata": {},
          "execution_count": 43
        }
      ]
    },
    {
      "cell_type": "markdown",
      "source": [
        "hasil data yang dirun adalah float64"
      ],
      "metadata": {
        "id": "RADFqSb0jBmT"
      }
    },
    {
      "cell_type": "markdown",
      "source": [
        "Perform imputer to handle missing value in numerical data"
      ],
      "metadata": {
        "id": "v6QJEYLbpcpG"
      }
    },
    {
      "cell_type": "code",
      "source": [
        "from sklearn.impute import SimpleImputer\n",
        "imputer = SimpleImputer(missing_values= np.nan, strategy='mean')\n",
        "imputer"
      ],
      "metadata": {
        "colab": {
          "base_uri": "https://localhost:8080/",
          "height": 74
        },
        "id": "02J19YzBjpuO",
        "outputId": "476b61e8-6bd6-4678-fbf2-5d91dc5a0734"
      },
      "execution_count": 44,
      "outputs": [
        {
          "output_type": "execute_result",
          "data": {
            "text/plain": [
              "SimpleImputer()"
            ],
            "text/html": [
              "<style>#sk-container-id-1 {color: black;background-color: white;}#sk-container-id-1 pre{padding: 0;}#sk-container-id-1 div.sk-toggleable {background-color: white;}#sk-container-id-1 label.sk-toggleable__label {cursor: pointer;display: block;width: 100%;margin-bottom: 0;padding: 0.3em;box-sizing: border-box;text-align: center;}#sk-container-id-1 label.sk-toggleable__label-arrow:before {content: \"▸\";float: left;margin-right: 0.25em;color: #696969;}#sk-container-id-1 label.sk-toggleable__label-arrow:hover:before {color: black;}#sk-container-id-1 div.sk-estimator:hover label.sk-toggleable__label-arrow:before {color: black;}#sk-container-id-1 div.sk-toggleable__content {max-height: 0;max-width: 0;overflow: hidden;text-align: left;background-color: #f0f8ff;}#sk-container-id-1 div.sk-toggleable__content pre {margin: 0.2em;color: black;border-radius: 0.25em;background-color: #f0f8ff;}#sk-container-id-1 input.sk-toggleable__control:checked~div.sk-toggleable__content {max-height: 200px;max-width: 100%;overflow: auto;}#sk-container-id-1 input.sk-toggleable__control:checked~label.sk-toggleable__label-arrow:before {content: \"▾\";}#sk-container-id-1 div.sk-estimator input.sk-toggleable__control:checked~label.sk-toggleable__label {background-color: #d4ebff;}#sk-container-id-1 div.sk-label input.sk-toggleable__control:checked~label.sk-toggleable__label {background-color: #d4ebff;}#sk-container-id-1 input.sk-hidden--visually {border: 0;clip: rect(1px 1px 1px 1px);clip: rect(1px, 1px, 1px, 1px);height: 1px;margin: -1px;overflow: hidden;padding: 0;position: absolute;width: 1px;}#sk-container-id-1 div.sk-estimator {font-family: monospace;background-color: #f0f8ff;border: 1px dotted black;border-radius: 0.25em;box-sizing: border-box;margin-bottom: 0.5em;}#sk-container-id-1 div.sk-estimator:hover {background-color: #d4ebff;}#sk-container-id-1 div.sk-parallel-item::after {content: \"\";width: 100%;border-bottom: 1px solid gray;flex-grow: 1;}#sk-container-id-1 div.sk-label:hover label.sk-toggleable__label {background-color: #d4ebff;}#sk-container-id-1 div.sk-serial::before {content: \"\";position: absolute;border-left: 1px solid gray;box-sizing: border-box;top: 0;bottom: 0;left: 50%;z-index: 0;}#sk-container-id-1 div.sk-serial {display: flex;flex-direction: column;align-items: center;background-color: white;padding-right: 0.2em;padding-left: 0.2em;position: relative;}#sk-container-id-1 div.sk-item {position: relative;z-index: 1;}#sk-container-id-1 div.sk-parallel {display: flex;align-items: stretch;justify-content: center;background-color: white;position: relative;}#sk-container-id-1 div.sk-item::before, #sk-container-id-1 div.sk-parallel-item::before {content: \"\";position: absolute;border-left: 1px solid gray;box-sizing: border-box;top: 0;bottom: 0;left: 50%;z-index: -1;}#sk-container-id-1 div.sk-parallel-item {display: flex;flex-direction: column;z-index: 1;position: relative;background-color: white;}#sk-container-id-1 div.sk-parallel-item:first-child::after {align-self: flex-end;width: 50%;}#sk-container-id-1 div.sk-parallel-item:last-child::after {align-self: flex-start;width: 50%;}#sk-container-id-1 div.sk-parallel-item:only-child::after {width: 0;}#sk-container-id-1 div.sk-dashed-wrapped {border: 1px dashed gray;margin: 0 0.4em 0.5em 0.4em;box-sizing: border-box;padding-bottom: 0.4em;background-color: white;}#sk-container-id-1 div.sk-label label {font-family: monospace;font-weight: bold;display: inline-block;line-height: 1.2em;}#sk-container-id-1 div.sk-label-container {text-align: center;}#sk-container-id-1 div.sk-container {/* jupyter's `normalize.less` sets `[hidden] { display: none; }` but bootstrap.min.css set `[hidden] { display: none !important; }` so we also need the `!important` here to be able to override the default hidden behavior on the sphinx rendered scikit-learn.org. See: https://github.com/scikit-learn/scikit-learn/issues/21755 */display: inline-block !important;position: relative;}#sk-container-id-1 div.sk-text-repr-fallback {display: none;}</style><div id=\"sk-container-id-1\" class=\"sk-top-container\"><div class=\"sk-text-repr-fallback\"><pre>SimpleImputer()</pre><b>In a Jupyter environment, please rerun this cell to show the HTML representation or trust the notebook. <br />On GitHub, the HTML representation is unable to render, please try loading this page with nbviewer.org.</b></div><div class=\"sk-container\" hidden><div class=\"sk-item\"><div class=\"sk-estimator sk-toggleable\"><input class=\"sk-toggleable__control sk-hidden--visually\" id=\"sk-estimator-id-1\" type=\"checkbox\" checked><label for=\"sk-estimator-id-1\" class=\"sk-toggleable__label sk-toggleable__label-arrow\">SimpleImputer</label><div class=\"sk-toggleable__content\"><pre>SimpleImputer()</pre></div></div></div></div></div>"
            ]
          },
          "metadata": {},
          "execution_count": 44
        }
      ]
    },
    {
      "cell_type": "code",
      "source": [
        "imputer = imputer.fit(dataset[['HeightStart']])\n",
        "imputer"
      ],
      "metadata": {
        "colab": {
          "base_uri": "https://localhost:8080/",
          "height": 74
        },
        "id": "RatiEmtpsMxv",
        "outputId": "a87ceb98-76e3-44d7-c899-5c77b2edf642"
      },
      "execution_count": 52,
      "outputs": [
        {
          "output_type": "execute_result",
          "data": {
            "text/plain": [
              "SimpleImputer()"
            ],
            "text/html": [
              "<style>#sk-container-id-2 {color: black;background-color: white;}#sk-container-id-2 pre{padding: 0;}#sk-container-id-2 div.sk-toggleable {background-color: white;}#sk-container-id-2 label.sk-toggleable__label {cursor: pointer;display: block;width: 100%;margin-bottom: 0;padding: 0.3em;box-sizing: border-box;text-align: center;}#sk-container-id-2 label.sk-toggleable__label-arrow:before {content: \"▸\";float: left;margin-right: 0.25em;color: #696969;}#sk-container-id-2 label.sk-toggleable__label-arrow:hover:before {color: black;}#sk-container-id-2 div.sk-estimator:hover label.sk-toggleable__label-arrow:before {color: black;}#sk-container-id-2 div.sk-toggleable__content {max-height: 0;max-width: 0;overflow: hidden;text-align: left;background-color: #f0f8ff;}#sk-container-id-2 div.sk-toggleable__content pre {margin: 0.2em;color: black;border-radius: 0.25em;background-color: #f0f8ff;}#sk-container-id-2 input.sk-toggleable__control:checked~div.sk-toggleable__content {max-height: 200px;max-width: 100%;overflow: auto;}#sk-container-id-2 input.sk-toggleable__control:checked~label.sk-toggleable__label-arrow:before {content: \"▾\";}#sk-container-id-2 div.sk-estimator input.sk-toggleable__control:checked~label.sk-toggleable__label {background-color: #d4ebff;}#sk-container-id-2 div.sk-label input.sk-toggleable__control:checked~label.sk-toggleable__label {background-color: #d4ebff;}#sk-container-id-2 input.sk-hidden--visually {border: 0;clip: rect(1px 1px 1px 1px);clip: rect(1px, 1px, 1px, 1px);height: 1px;margin: -1px;overflow: hidden;padding: 0;position: absolute;width: 1px;}#sk-container-id-2 div.sk-estimator {font-family: monospace;background-color: #f0f8ff;border: 1px dotted black;border-radius: 0.25em;box-sizing: border-box;margin-bottom: 0.5em;}#sk-container-id-2 div.sk-estimator:hover {background-color: #d4ebff;}#sk-container-id-2 div.sk-parallel-item::after {content: \"\";width: 100%;border-bottom: 1px solid gray;flex-grow: 1;}#sk-container-id-2 div.sk-label:hover label.sk-toggleable__label {background-color: #d4ebff;}#sk-container-id-2 div.sk-serial::before {content: \"\";position: absolute;border-left: 1px solid gray;box-sizing: border-box;top: 0;bottom: 0;left: 50%;z-index: 0;}#sk-container-id-2 div.sk-serial {display: flex;flex-direction: column;align-items: center;background-color: white;padding-right: 0.2em;padding-left: 0.2em;position: relative;}#sk-container-id-2 div.sk-item {position: relative;z-index: 1;}#sk-container-id-2 div.sk-parallel {display: flex;align-items: stretch;justify-content: center;background-color: white;position: relative;}#sk-container-id-2 div.sk-item::before, #sk-container-id-2 div.sk-parallel-item::before {content: \"\";position: absolute;border-left: 1px solid gray;box-sizing: border-box;top: 0;bottom: 0;left: 50%;z-index: -1;}#sk-container-id-2 div.sk-parallel-item {display: flex;flex-direction: column;z-index: 1;position: relative;background-color: white;}#sk-container-id-2 div.sk-parallel-item:first-child::after {align-self: flex-end;width: 50%;}#sk-container-id-2 div.sk-parallel-item:last-child::after {align-self: flex-start;width: 50%;}#sk-container-id-2 div.sk-parallel-item:only-child::after {width: 0;}#sk-container-id-2 div.sk-dashed-wrapped {border: 1px dashed gray;margin: 0 0.4em 0.5em 0.4em;box-sizing: border-box;padding-bottom: 0.4em;background-color: white;}#sk-container-id-2 div.sk-label label {font-family: monospace;font-weight: bold;display: inline-block;line-height: 1.2em;}#sk-container-id-2 div.sk-label-container {text-align: center;}#sk-container-id-2 div.sk-container {/* jupyter's `normalize.less` sets `[hidden] { display: none; }` but bootstrap.min.css set `[hidden] { display: none !important; }` so we also need the `!important` here to be able to override the default hidden behavior on the sphinx rendered scikit-learn.org. See: https://github.com/scikit-learn/scikit-learn/issues/21755 */display: inline-block !important;position: relative;}#sk-container-id-2 div.sk-text-repr-fallback {display: none;}</style><div id=\"sk-container-id-2\" class=\"sk-top-container\"><div class=\"sk-text-repr-fallback\"><pre>SimpleImputer()</pre><b>In a Jupyter environment, please rerun this cell to show the HTML representation or trust the notebook. <br />On GitHub, the HTML representation is unable to render, please try loading this page with nbviewer.org.</b></div><div class=\"sk-container\" hidden><div class=\"sk-item\"><div class=\"sk-estimator sk-toggleable\"><input class=\"sk-toggleable__control sk-hidden--visually\" id=\"sk-estimator-id-2\" type=\"checkbox\" checked><label for=\"sk-estimator-id-2\" class=\"sk-toggleable__label sk-toggleable__label-arrow\">SimpleImputer</label><div class=\"sk-toggleable__content\"><pre>SimpleImputer()</pre></div></div></div></div></div>"
            ]
          },
          "metadata": {},
          "execution_count": 52
        }
      ]
    },
    {
      "cell_type": "code",
      "source": [
        "dataset[['HeightStart']] = imputer.transform(dataset[['HeightStart']])\n",
        "dataset.isnull().sum()"
      ],
      "metadata": {
        "colab": {
          "base_uri": "https://localhost:8080/"
        },
        "id": "VRRgnMy9s6t7",
        "outputId": "142fcc05-9c17-47b3-b152-d54e164c84eb"
      },
      "execution_count": 53,
      "outputs": [
        {
          "output_type": "execute_result",
          "data": {
            "text/plain": [
              "Name            567\n",
              "Gender          117\n",
              "Relative          2\n",
              "Address           0\n",
              "AgeStart          0\n",
              "AgeEnd            0\n",
              "HeightStart       0\n",
              "HeightEnd        33\n",
              "Built            12\n",
              "Date           2127\n",
              "Dist              0\n",
              "State           131\n",
              "dtype: int64"
            ]
          },
          "metadata": {},
          "execution_count": 53
        }
      ]
    },
    {
      "cell_type": "markdown",
      "source": [
        "Using drop column tohandle missing value on categorical or object data"
      ],
      "metadata": {
        "id": "akm-xmRdphDb"
      }
    },
    {
      "cell_type": "code",
      "execution_count": 57,
      "metadata": {
        "colab": {
          "base_uri": "https://localhost:8080/"
        },
        "id": "APXYNKqq0J3k",
        "outputId": "f003ed0f-fcb8-4977-ce7a-ac7d9b5edc38"
      },
      "outputs": [
        {
          "output_type": "execute_result",
          "data": {
            "text/plain": [
              "Address        0\n",
              "AgeStart       0\n",
              "AgeEnd         0\n",
              "HeightStart    0\n",
              "Dist           0\n",
              "dtype: int64"
            ]
          },
          "metadata": {},
          "execution_count": 57
        }
      ],
      "source": [
        "dataset = dataset.dropna(axis=1)\n",
        "dataset.isnull().sum()"
      ]
    },
    {
      "cell_type": "markdown",
      "source": [
        "drop datetime column since we don't need it, we will use it in the next lecure for forecasting time series data"
      ],
      "metadata": {
        "id": "hqbUmlrTqsed"
      }
    },
    {
      "cell_type": "code",
      "source": [
        "dataset = dataset.drop('Dist', axis=1)\n",
        "dataset"
      ],
      "metadata": {
        "colab": {
          "base_uri": "https://localhost:8080/",
          "height": 423
        },
        "id": "1xT6ljMtq4sU",
        "outputId": "ee227043-0a8e-46c1-9a57-0e10a8b6e9b3"
      },
      "execution_count": 59,
      "outputs": [
        {
          "output_type": "execute_result",
          "data": {
            "text/plain": [
              "                                                Address  AgeStart  AgeEnd  \\\n",
              "0     ,  , E 129 A SHOK NAGAR PRIDAY MARKET CHOWK DE...        16      17   \n",
              "1     , , JHUGGI NO. N- 78/102, SHIVANAND SCHOOL SEW...        19      20   \n",
              "2     , NO, 79, GALI NO. 3 KONDLI DELHI NEW A SHOK N...        19      20   \n",
              "3     , , 15/286, KALYANPURI DELHI KALYA NPURI EAST ...        24      25   \n",
              "4     , , 19-20, KABOOTAR MARKET WELCOM DELHI WELCO ...        21      22   \n",
              "...                                                 ...       ...     ...   \n",
              "2122  , , T 35 RAM A ROAD MOOLCHAND COLONY DELHI ADA...        24      25   \n",
              "2123  , M ale, I 158 SUND ER NAGARI DELHI NORTH EAST...        15      16   \n",
              "2124  , HOUSE N O 446 NAUGHRA MOHALLAH TUGLAKABAD VI...        15      16   \n",
              "2125  , , H NO 771 S EC 6 R K PURAM NEW DELHI R. K. ...        58      59   \n",
              "2126  , , HOUSE NO 81/13 CHURRIYA MOHALLAH N DELHI T...         5       7   \n",
              "\n",
              "      HeightStart  \n",
              "0        122.0000  \n",
              "1        153.0000  \n",
              "2        153.0000  \n",
              "3        153.0000  \n",
              "4        153.0000  \n",
              "...           ...  \n",
              "2122     153.0000  \n",
              "2123     153.0000  \n",
              "2124     153.0000  \n",
              "2125     153.0000  \n",
              "2126     168.5234  \n",
              "\n",
              "[2127 rows x 4 columns]"
            ],
            "text/html": [
              "\n",
              "  <div id=\"df-5e1e70ba-bbdd-46ac-87e5-4a937749a739\">\n",
              "    <div class=\"colab-df-container\">\n",
              "      <div>\n",
              "<style scoped>\n",
              "    .dataframe tbody tr th:only-of-type {\n",
              "        vertical-align: middle;\n",
              "    }\n",
              "\n",
              "    .dataframe tbody tr th {\n",
              "        vertical-align: top;\n",
              "    }\n",
              "\n",
              "    .dataframe thead th {\n",
              "        text-align: right;\n",
              "    }\n",
              "</style>\n",
              "<table border=\"1\" class=\"dataframe\">\n",
              "  <thead>\n",
              "    <tr style=\"text-align: right;\">\n",
              "      <th></th>\n",
              "      <th>Address</th>\n",
              "      <th>AgeStart</th>\n",
              "      <th>AgeEnd</th>\n",
              "      <th>HeightStart</th>\n",
              "    </tr>\n",
              "  </thead>\n",
              "  <tbody>\n",
              "    <tr>\n",
              "      <th>0</th>\n",
              "      <td>,  , E 129 A SHOK NAGAR PRIDAY MARKET CHOWK DE...</td>\n",
              "      <td>16</td>\n",
              "      <td>17</td>\n",
              "      <td>122.0000</td>\n",
              "    </tr>\n",
              "    <tr>\n",
              "      <th>1</th>\n",
              "      <td>, , JHUGGI NO. N- 78/102, SHIVANAND SCHOOL SEW...</td>\n",
              "      <td>19</td>\n",
              "      <td>20</td>\n",
              "      <td>153.0000</td>\n",
              "    </tr>\n",
              "    <tr>\n",
              "      <th>2</th>\n",
              "      <td>, NO, 79, GALI NO. 3 KONDLI DELHI NEW A SHOK N...</td>\n",
              "      <td>19</td>\n",
              "      <td>20</td>\n",
              "      <td>153.0000</td>\n",
              "    </tr>\n",
              "    <tr>\n",
              "      <th>3</th>\n",
              "      <td>, , 15/286, KALYANPURI DELHI KALYA NPURI EAST ...</td>\n",
              "      <td>24</td>\n",
              "      <td>25</td>\n",
              "      <td>153.0000</td>\n",
              "    </tr>\n",
              "    <tr>\n",
              "      <th>4</th>\n",
              "      <td>, , 19-20, KABOOTAR MARKET WELCOM DELHI WELCO ...</td>\n",
              "      <td>21</td>\n",
              "      <td>22</td>\n",
              "      <td>153.0000</td>\n",
              "    </tr>\n",
              "    <tr>\n",
              "      <th>...</th>\n",
              "      <td>...</td>\n",
              "      <td>...</td>\n",
              "      <td>...</td>\n",
              "      <td>...</td>\n",
              "    </tr>\n",
              "    <tr>\n",
              "      <th>2122</th>\n",
              "      <td>, , T 35 RAM A ROAD MOOLCHAND COLONY DELHI ADA...</td>\n",
              "      <td>24</td>\n",
              "      <td>25</td>\n",
              "      <td>153.0000</td>\n",
              "    </tr>\n",
              "    <tr>\n",
              "      <th>2123</th>\n",
              "      <td>, M ale, I 158 SUND ER NAGARI DELHI NORTH EAST...</td>\n",
              "      <td>15</td>\n",
              "      <td>16</td>\n",
              "      <td>153.0000</td>\n",
              "    </tr>\n",
              "    <tr>\n",
              "      <th>2124</th>\n",
              "      <td>, HOUSE N O 446 NAUGHRA MOHALLAH TUGLAKABAD VI...</td>\n",
              "      <td>15</td>\n",
              "      <td>16</td>\n",
              "      <td>153.0000</td>\n",
              "    </tr>\n",
              "    <tr>\n",
              "      <th>2125</th>\n",
              "      <td>, , H NO 771 S EC 6 R K PURAM NEW DELHI R. K. ...</td>\n",
              "      <td>58</td>\n",
              "      <td>59</td>\n",
              "      <td>153.0000</td>\n",
              "    </tr>\n",
              "    <tr>\n",
              "      <th>2126</th>\n",
              "      <td>, , HOUSE NO 81/13 CHURRIYA MOHALLAH N DELHI T...</td>\n",
              "      <td>5</td>\n",
              "      <td>7</td>\n",
              "      <td>168.5234</td>\n",
              "    </tr>\n",
              "  </tbody>\n",
              "</table>\n",
              "<p>2127 rows × 4 columns</p>\n",
              "</div>\n",
              "      <button class=\"colab-df-convert\" onclick=\"convertToInteractive('df-5e1e70ba-bbdd-46ac-87e5-4a937749a739')\"\n",
              "              title=\"Convert this dataframe to an interactive table.\"\n",
              "              style=\"display:none;\">\n",
              "        \n",
              "  <svg xmlns=\"http://www.w3.org/2000/svg\" height=\"24px\"viewBox=\"0 0 24 24\"\n",
              "       width=\"24px\">\n",
              "    <path d=\"M0 0h24v24H0V0z\" fill=\"none\"/>\n",
              "    <path d=\"M18.56 5.44l.94 2.06.94-2.06 2.06-.94-2.06-.94-.94-2.06-.94 2.06-2.06.94zm-11 1L8.5 8.5l.94-2.06 2.06-.94-2.06-.94L8.5 2.5l-.94 2.06-2.06.94zm10 10l.94 2.06.94-2.06 2.06-.94-2.06-.94-.94-2.06-.94 2.06-2.06.94z\"/><path d=\"M17.41 7.96l-1.37-1.37c-.4-.4-.92-.59-1.43-.59-.52 0-1.04.2-1.43.59L10.3 9.45l-7.72 7.72c-.78.78-.78 2.05 0 2.83L4 21.41c.39.39.9.59 1.41.59.51 0 1.02-.2 1.41-.59l7.78-7.78 2.81-2.81c.8-.78.8-2.07 0-2.86zM5.41 20L4 18.59l7.72-7.72 1.47 1.35L5.41 20z\"/>\n",
              "  </svg>\n",
              "      </button>\n",
              "      \n",
              "  <style>\n",
              "    .colab-df-container {\n",
              "      display:flex;\n",
              "      flex-wrap:wrap;\n",
              "      gap: 12px;\n",
              "    }\n",
              "\n",
              "    .colab-df-convert {\n",
              "      background-color: #E8F0FE;\n",
              "      border: none;\n",
              "      border-radius: 50%;\n",
              "      cursor: pointer;\n",
              "      display: none;\n",
              "      fill: #1967D2;\n",
              "      height: 32px;\n",
              "      padding: 0 0 0 0;\n",
              "      width: 32px;\n",
              "    }\n",
              "\n",
              "    .colab-df-convert:hover {\n",
              "      background-color: #E2EBFA;\n",
              "      box-shadow: 0px 1px 2px rgba(60, 64, 67, 0.3), 0px 1px 3px 1px rgba(60, 64, 67, 0.15);\n",
              "      fill: #174EA6;\n",
              "    }\n",
              "\n",
              "    [theme=dark] .colab-df-convert {\n",
              "      background-color: #3B4455;\n",
              "      fill: #D2E3FC;\n",
              "    }\n",
              "\n",
              "    [theme=dark] .colab-df-convert:hover {\n",
              "      background-color: #434B5C;\n",
              "      box-shadow: 0px 1px 3px 1px rgba(0, 0, 0, 0.15);\n",
              "      filter: drop-shadow(0px 1px 2px rgba(0, 0, 0, 0.3));\n",
              "      fill: #FFFFFF;\n",
              "    }\n",
              "  </style>\n",
              "\n",
              "      <script>\n",
              "        const buttonEl =\n",
              "          document.querySelector('#df-5e1e70ba-bbdd-46ac-87e5-4a937749a739 button.colab-df-convert');\n",
              "        buttonEl.style.display =\n",
              "          google.colab.kernel.accessAllowed ? 'block' : 'none';\n",
              "\n",
              "        async function convertToInteractive(key) {\n",
              "          const element = document.querySelector('#df-5e1e70ba-bbdd-46ac-87e5-4a937749a739');\n",
              "          const dataTable =\n",
              "            await google.colab.kernel.invokeFunction('convertToInteractive',\n",
              "                                                     [key], {});\n",
              "          if (!dataTable) return;\n",
              "\n",
              "          const docLinkHtml = 'Like what you see? Visit the ' +\n",
              "            '<a target=\"_blank\" href=https://colab.research.google.com/notebooks/data_table.ipynb>data table notebook</a>'\n",
              "            + ' to learn more about interactive tables.';\n",
              "          element.innerHTML = '';\n",
              "          dataTable['output_type'] = 'display_data';\n",
              "          await google.colab.output.renderOutput(dataTable, element);\n",
              "          const docLink = document.createElement('div');\n",
              "          docLink.innerHTML = docLinkHtml;\n",
              "          element.appendChild(docLink);\n",
              "        }\n",
              "      </script>\n",
              "    </div>\n",
              "  </div>\n",
              "  "
            ]
          },
          "metadata": {},
          "execution_count": 59
        }
      ]
    },
    {
      "cell_type": "markdown",
      "source": [
        "data yang ingin kita hilangkan adalah dist"
      ],
      "metadata": {
        "id": "lM4LbKwwjLfQ"
      }
    },
    {
      "cell_type": "markdown",
      "source": [
        "## 3. Data Visualization"
      ],
      "metadata": {
        "id": "ENPm1cm20MRH"
      }
    },
    {
      "cell_type": "markdown",
      "source": [
        "**Eploratory Data Analysis (EDA)**"
      ],
      "metadata": {
        "id": "Kmt5tnjKb_Th"
      }
    },
    {
      "cell_type": "markdown",
      "source": [
        "we will not use exploratory data analysis like in the previous class, we'll take another apporach to visualize data"
      ],
      "metadata": {
        "id": "_sXK6PePvNOv"
      }
    },
    {
      "cell_type": "markdown",
      "source": [
        "**3.1 Check Outliers**\n",
        "\n",
        "Outliers are values at the extreme ends of a dataset.\n",
        "\n",
        "Some outliers represent true values from natural variation in the population. Other outliers may result from incorrect data entry, equipment malfunctions, or other measurement errors.\n",
        "\n",
        "An outlier isn’t always a form of dirty or incorrect data, so you have to be careful with them in data cleansing. What you should do with an outlier depends on its most likely cause.\n",
        "\n",
        "for more info: https://www.scribbr.com/statistics/outliers/"
      ],
      "metadata": {
        "id": "FZB03O6btxDd"
      }
    },
    {
      "cell_type": "code",
      "execution_count": 60,
      "metadata": {
        "colab": {
          "base_uri": "https://localhost:8080/",
          "height": 300
        },
        "id": "0V45x0tn28_2",
        "outputId": "21a92205-c07a-4d85-cdcf-9982c88ec2d9"
      },
      "outputs": [
        {
          "output_type": "execute_result",
          "data": {
            "text/plain": [
              "          AgeStart       AgeEnd  HeightStart\n",
              "count  2127.000000  2127.000000  2127.000000\n",
              "mean     25.962388    26.952515   168.523400\n",
              "std      14.698394    14.721309   312.108853\n",
              "min       1.000000     1.000000     3.000000\n",
              "25%      17.000000    18.000000   153.000000\n",
              "50%      22.000000    23.000000   153.000000\n",
              "75%      30.000000    31.000000   153.000000\n",
              "max      96.000000    97.000000  4664.000000"
            ],
            "text/html": [
              "\n",
              "  <div id=\"df-857e0367-95e4-4b94-b896-e14e1ce8d2c1\">\n",
              "    <div class=\"colab-df-container\">\n",
              "      <div>\n",
              "<style scoped>\n",
              "    .dataframe tbody tr th:only-of-type {\n",
              "        vertical-align: middle;\n",
              "    }\n",
              "\n",
              "    .dataframe tbody tr th {\n",
              "        vertical-align: top;\n",
              "    }\n",
              "\n",
              "    .dataframe thead th {\n",
              "        text-align: right;\n",
              "    }\n",
              "</style>\n",
              "<table border=\"1\" class=\"dataframe\">\n",
              "  <thead>\n",
              "    <tr style=\"text-align: right;\">\n",
              "      <th></th>\n",
              "      <th>AgeStart</th>\n",
              "      <th>AgeEnd</th>\n",
              "      <th>HeightStart</th>\n",
              "    </tr>\n",
              "  </thead>\n",
              "  <tbody>\n",
              "    <tr>\n",
              "      <th>count</th>\n",
              "      <td>2127.000000</td>\n",
              "      <td>2127.000000</td>\n",
              "      <td>2127.000000</td>\n",
              "    </tr>\n",
              "    <tr>\n",
              "      <th>mean</th>\n",
              "      <td>25.962388</td>\n",
              "      <td>26.952515</td>\n",
              "      <td>168.523400</td>\n",
              "    </tr>\n",
              "    <tr>\n",
              "      <th>std</th>\n",
              "      <td>14.698394</td>\n",
              "      <td>14.721309</td>\n",
              "      <td>312.108853</td>\n",
              "    </tr>\n",
              "    <tr>\n",
              "      <th>min</th>\n",
              "      <td>1.000000</td>\n",
              "      <td>1.000000</td>\n",
              "      <td>3.000000</td>\n",
              "    </tr>\n",
              "    <tr>\n",
              "      <th>25%</th>\n",
              "      <td>17.000000</td>\n",
              "      <td>18.000000</td>\n",
              "      <td>153.000000</td>\n",
              "    </tr>\n",
              "    <tr>\n",
              "      <th>50%</th>\n",
              "      <td>22.000000</td>\n",
              "      <td>23.000000</td>\n",
              "      <td>153.000000</td>\n",
              "    </tr>\n",
              "    <tr>\n",
              "      <th>75%</th>\n",
              "      <td>30.000000</td>\n",
              "      <td>31.000000</td>\n",
              "      <td>153.000000</td>\n",
              "    </tr>\n",
              "    <tr>\n",
              "      <th>max</th>\n",
              "      <td>96.000000</td>\n",
              "      <td>97.000000</td>\n",
              "      <td>4664.000000</td>\n",
              "    </tr>\n",
              "  </tbody>\n",
              "</table>\n",
              "</div>\n",
              "      <button class=\"colab-df-convert\" onclick=\"convertToInteractive('df-857e0367-95e4-4b94-b896-e14e1ce8d2c1')\"\n",
              "              title=\"Convert this dataframe to an interactive table.\"\n",
              "              style=\"display:none;\">\n",
              "        \n",
              "  <svg xmlns=\"http://www.w3.org/2000/svg\" height=\"24px\"viewBox=\"0 0 24 24\"\n",
              "       width=\"24px\">\n",
              "    <path d=\"M0 0h24v24H0V0z\" fill=\"none\"/>\n",
              "    <path d=\"M18.56 5.44l.94 2.06.94-2.06 2.06-.94-2.06-.94-.94-2.06-.94 2.06-2.06.94zm-11 1L8.5 8.5l.94-2.06 2.06-.94-2.06-.94L8.5 2.5l-.94 2.06-2.06.94zm10 10l.94 2.06.94-2.06 2.06-.94-2.06-.94-.94-2.06-.94 2.06-2.06.94z\"/><path d=\"M17.41 7.96l-1.37-1.37c-.4-.4-.92-.59-1.43-.59-.52 0-1.04.2-1.43.59L10.3 9.45l-7.72 7.72c-.78.78-.78 2.05 0 2.83L4 21.41c.39.39.9.59 1.41.59.51 0 1.02-.2 1.41-.59l7.78-7.78 2.81-2.81c.8-.78.8-2.07 0-2.86zM5.41 20L4 18.59l7.72-7.72 1.47 1.35L5.41 20z\"/>\n",
              "  </svg>\n",
              "      </button>\n",
              "      \n",
              "  <style>\n",
              "    .colab-df-container {\n",
              "      display:flex;\n",
              "      flex-wrap:wrap;\n",
              "      gap: 12px;\n",
              "    }\n",
              "\n",
              "    .colab-df-convert {\n",
              "      background-color: #E8F0FE;\n",
              "      border: none;\n",
              "      border-radius: 50%;\n",
              "      cursor: pointer;\n",
              "      display: none;\n",
              "      fill: #1967D2;\n",
              "      height: 32px;\n",
              "      padding: 0 0 0 0;\n",
              "      width: 32px;\n",
              "    }\n",
              "\n",
              "    .colab-df-convert:hover {\n",
              "      background-color: #E2EBFA;\n",
              "      box-shadow: 0px 1px 2px rgba(60, 64, 67, 0.3), 0px 1px 3px 1px rgba(60, 64, 67, 0.15);\n",
              "      fill: #174EA6;\n",
              "    }\n",
              "\n",
              "    [theme=dark] .colab-df-convert {\n",
              "      background-color: #3B4455;\n",
              "      fill: #D2E3FC;\n",
              "    }\n",
              "\n",
              "    [theme=dark] .colab-df-convert:hover {\n",
              "      background-color: #434B5C;\n",
              "      box-shadow: 0px 1px 3px 1px rgba(0, 0, 0, 0.15);\n",
              "      filter: drop-shadow(0px 1px 2px rgba(0, 0, 0, 0.3));\n",
              "      fill: #FFFFFF;\n",
              "    }\n",
              "  </style>\n",
              "\n",
              "      <script>\n",
              "        const buttonEl =\n",
              "          document.querySelector('#df-857e0367-95e4-4b94-b896-e14e1ce8d2c1 button.colab-df-convert');\n",
              "        buttonEl.style.display =\n",
              "          google.colab.kernel.accessAllowed ? 'block' : 'none';\n",
              "\n",
              "        async function convertToInteractive(key) {\n",
              "          const element = document.querySelector('#df-857e0367-95e4-4b94-b896-e14e1ce8d2c1');\n",
              "          const dataTable =\n",
              "            await google.colab.kernel.invokeFunction('convertToInteractive',\n",
              "                                                     [key], {});\n",
              "          if (!dataTable) return;\n",
              "\n",
              "          const docLinkHtml = 'Like what you see? Visit the ' +\n",
              "            '<a target=\"_blank\" href=https://colab.research.google.com/notebooks/data_table.ipynb>data table notebook</a>'\n",
              "            + ' to learn more about interactive tables.';\n",
              "          element.innerHTML = '';\n",
              "          dataTable['output_type'] = 'display_data';\n",
              "          await google.colab.output.renderOutput(dataTable, element);\n",
              "          const docLink = document.createElement('div');\n",
              "          docLink.innerHTML = docLinkHtml;\n",
              "          element.appendChild(docLink);\n",
              "        }\n",
              "      </script>\n",
              "    </div>\n",
              "  </div>\n",
              "  "
            ]
          },
          "metadata": {},
          "execution_count": 60
        }
      ],
      "source": [
        "dataset.describe()"
      ]
    },
    {
      "cell_type": "markdown",
      "source": [
        "describe sendiri untuk menjealskan data yang ada itu apa saja"
      ],
      "metadata": {
        "id": "xGgvcwJNjQQR"
      }
    },
    {
      "cell_type": "code",
      "source": [
        "import matplotlib.pyplot as plt\n",
        "%matplotlib inline\n",
        "dataset.plot()"
      ],
      "metadata": {
        "colab": {
          "base_uri": "https://localhost:8080/",
          "height": 447
        },
        "id": "hVyPVG8wv4Rd",
        "outputId": "4940390d-3d53-4824-c41e-b250af7a15ea"
      },
      "execution_count": 61,
      "outputs": [
        {
          "output_type": "execute_result",
          "data": {
            "text/plain": [
              "<Axes: >"
            ]
          },
          "metadata": {},
          "execution_count": 61
        },
        {
          "output_type": "display_data",
          "data": {
            "text/plain": [
              "<Figure size 640x480 with 1 Axes>"
            ],
            "image/png": "[encoded data removed]"
          },
          "metadata": {}
        }
      ]
    },
    {
      "cell_type": "code",
      "source": [
        "import seaborn as sns\n",
        "%matplotlib inline\n",
        "\n",
        "sns.set(rc={'figure.figsize':(11,8)}, font_scale=1.5, style='whitegrid')\n",
        "\n",
        "# tips = sns.load_dataset(dataset)\n",
        "sns.boxplot(data=dataset, orient=\"h\");"
      ],
      "metadata": {
        "colab": {
          "base_uri": "https://localhost:8080/",
          "height": 584
        },
        "id": "Sg0KQswrw-aG",
        "outputId": "6a9fc5a7-ea25-4c39-f712-e342e375c851"
      },
      "execution_count": 62,
      "outputs": [
        {
          "output_type": "display_data",
          "data": {
            "text/plain": [
              "<Figure size 1100x800 with 1 Axes>"
            ],
            "image/png": "[encoded data removed]"
          },
          "metadata": {}
        }
      ]
    },
    {
      "cell_type": "code",
      "source": [
        "# Scatter plot\n",
        "fig, ax = plt.subplots(figsize = (15,7))\n",
        "ax.scatter(dataset['AgeStart'], dataset['HeightStart'])\n",
        " \n",
        "# x-axis label\n",
        "ax.set_xlabel('HeightStart')\n",
        " \n",
        "# y-axis label\n",
        "ax.set_ylabel('AgeStart')\n",
        "plt.show()"
      ],
      "metadata": {
        "colab": {
          "base_uri": "https://localhost:8080/",
          "height": 430
        },
        "id": "QF-Yo7Mc1BJH",
        "outputId": "06253324-444e-49ff-dc24-b8167d17ad37"
      },
      "execution_count": 67,
      "outputs": [
        {
          "output_type": "display_data",
          "data": {
            "text/plain": [
              "<Figure size 1500x700 with 1 Axes>"
            ],
            "image/png": "[encoded data removed]"
          },
          "metadata": {}
        }
      ]
    },
    {
      "cell_type": "markdown",
      "source": [
        "**Removing the outliers using IQR**\n",
        "\n",
        "**IQR (Inter Quartile Range)**\n",
        "\n",
        "IQR = Quartile3 – Quartile1\n",
        "\n",
        "Quartile description: https://rumusbilangan.com/rumus-kuartil/\n"
      ],
      "metadata": {
        "id": "QNqE47dr2hr4"
      }
    },
    {
      "cell_type": "markdown",
      "source": [
        "IQR is interpolation method to remove outliers\n",
        "\n",
        "To define the outlier base value is defined above and below datasets normal range namely Upper and Lower bounds, define the upper and the lower bound (1.5*IQR value is considered) :\n",
        "\n",
        "upper = Q3 +1.5*IQR\n",
        "\n",
        "lower = Q1 – 1.5*IQR\n",
        "\n",
        "how to calculate IQR:\n",
        "\n",
        "https://www.timesmojo.com/what-is-the-15-iqr-rule/\n",
        "\n",
        "https://www.geeksforgeeks.org/detect-and-remove-the-outliers-using-python/\n",
        "\n",
        "In the above formula as according to statistics, the 0.5 scale-up of IQR (new_IQR = IQR + 0.5*IQR) is taken, to consider all the data between 2.7 standard deviations in the Gaussian Distribution."
      ],
      "metadata": {
        "id": "5m0lhYyq3Xn7"
      }
    },
    {
      "cell_type": "code",
      "source": [
        "import sklearn\n",
        "\n",
        "# IQR Price\n",
        "Q1 = np.percentile(dataset['AgeStart'], 25,\n",
        "                   method = 'midpoint')\n",
        " \n",
        "Q3 = np.percentile(dataset['AgeStart'], 75,\n",
        "                   method = 'midpoint')\n",
        "IQR = Q3 - Q1\n",
        " \n",
        "print(\"Old Shape: \", dataset.shape)"
      ],
      "metadata": {
        "colab": {
          "base_uri": "https://localhost:8080/"
        },
        "id": "jL9XfyUY6L58",
        "outputId": "14cdcb0f-f3c7-41da-c61c-57ba74a906f1"
      },
      "execution_count": 74,
      "outputs": [
        {
          "output_type": "stream",
          "name": "stdout",
          "text": [
            "Old Shape:  (2127, 4)\n"
          ]
        }
      ]
    },
    {
      "cell_type": "markdown",
      "source": [],
      "metadata": {
        "id": "vYM0hyEakYrA"
      }
    },
    {
      "cell_type": "code",
      "source": [
        "# Upper bound\n",
        "upper = Q3 + 1.5 * IQR\n",
        "\n",
        "# Lower bound\n",
        "lower = Q1 - 1.5 * IQR\n",
        "\n",
        "# Finding the indices of the outliers\n",
        "outliers_upper = dataset[dataset['AgeStart'] > upper].index\n",
        "outliers_lower = dataset[dataset['AgeStart'] < lower].index\n",
        "\n",
        "# Concatenate the indices of the outliers\n",
        "outliers = outliers_upper.append(outliers_lower)\n",
        "\n",
        "# Removing the outliers\n",
        "dataset.drop(outliers, inplace=True)\n",
        "\n",
        "print(\"New Shape: \", dataset.shape)\n"
      ],
      "metadata": {
        "colab": {
          "base_uri": "https://localhost:8080/"
        },
        "id": "WIZyhdHL6orp",
        "outputId": "9daac67c-6654-4240-f3a0-8519510c4fcc"
      },
      "execution_count": 75,
      "outputs": [
        {
          "output_type": "stream",
          "name": "stdout",
          "text": [
            "New Shape:  (1950, 4)\n"
          ]
        }
      ]
    },
    {
      "cell_type": "markdown",
      "source": [
        "perintah untuk nambah atau kolom"
      ],
      "metadata": {
        "id": "QIs956_-khXp"
      }
    },
    {
      "cell_type": "markdown",
      "source": [
        " "
      ],
      "metadata": {
        "id": "sSVy0pZbjcHI"
      }
    },
    {
      "cell_type": "code",
      "source": [
        "import sklearn\n",
        "\n",
        "# IQR Landsize\n",
        "Q1 = np.percentile(dataset['AgeStart'], 25,\n",
        "                   method = 'midpoint')\n",
        " \n",
        "Q3 = np.percentile(dataset['AgeStart'], 75,\n",
        "                   method = 'midpoint')\n",
        "IQR = Q3 - Q1\n",
        " \n",
        "print(\"Old Shape: \", dataset.shape)"
      ],
      "metadata": {
        "colab": {
          "base_uri": "https://localhost:8080/"
        },
        "id": "NV-D28kj63xj",
        "outputId": "7176927f-28d7-4447-8192-88f21e293971"
      },
      "execution_count": 76,
      "outputs": [
        {
          "output_type": "stream",
          "name": "stdout",
          "text": [
            "Old Shape:  (1950, 4)\n"
          ]
        }
      ]
    },
    {
      "cell_type": "code",
      "source": [
        "# Upper bound\n",
        "upper = Q3 + 1.5 * IQR\n",
        "\n",
        "# Lower bound\n",
        "lower = Q1 - 1.5 * IQR\n",
        "\n",
        "# Finding the indices of the outliers\n",
        "outliers_upper = dataset[dataset['AgeStart'] > upper].index\n",
        "outliers_lower = dataset[dataset['AgeStart'] < lower].index\n",
        "\n",
        "# Concatenate the indices of the outliers\n",
        "outliers = outliers_upper.append(outliers_lower)\n",
        "\n",
        "# Removing the outliers\n",
        "dataset.drop(outliers, inplace=True)\n",
        "\n",
        "print(\"New Shape: \", dataset.shape)\n"
      ],
      "metadata": {
        "colab": {
          "base_uri": "https://localhost:8080/"
        },
        "id": "raHbRnEQ66Ai",
        "outputId": "f2b4f062-9aed-42b6-b059-2c7c41322ee6"
      },
      "execution_count": 77,
      "outputs": [
        {
          "output_type": "stream",
          "name": "stdout",
          "text": [
            "New Shape:  (1922, 4)\n"
          ]
        }
      ]
    },
    {
      "cell_type": "code",
      "execution_count": 78,
      "metadata": {
        "colab": {
          "base_uri": "https://localhost:8080/",
          "height": 584
        },
        "id": "vR-0FpAR4wNE",
        "outputId": "ad5ae803-6eb0-4017-b59a-cfd5c79cf261"
      },
      "outputs": [
        {
          "output_type": "display_data",
          "data": {
            "text/plain": [
              "<Figure size 1100x800 with 1 Axes>"
            ],
            "image/png": "[encoded data removed]"
          },
          "metadata": {}
        }
      ],
      "source": [
        "import seaborn as sns\n",
        "%matplotlib inline\n",
        "\n",
        "sns.set(rc={'figure.figsize':(11,8)}, font_scale=1.5, style='whitegrid')\n",
        "\n",
        "# tips = sns.load_dataset(dataset)\n",
        "sns.boxplot(data=dataset, orient=\"h\");"
      ]
    },
    {
      "cell_type": "code",
      "source": [
        "# Scatter plot\n",
        "fig, ax = plt.subplots(figsize = (15,7))\n",
        "ax.scatter(dataset['HeightStart'], dataset['AgeStart'])\n",
        " \n",
        "# x-axis label\n",
        "ax.set_xlabel('heightStart')\n",
        " \n",
        "# y-axis label\n",
        "ax.set_ylabel('AgeStart')\n",
        "plt.show()"
      ],
      "metadata": {
        "colab": {
          "base_uri": "https://localhost:8080/",
          "height": 444
        },
        "id": "kp3nBBsZ8qQm",
        "outputId": "4e427220-3a20-42e7-aefb-ac5291cc1625"
      },
      "execution_count": 81,
      "outputs": [
        {
          "output_type": "display_data",
          "data": {
            "text/plain": [
              "<Figure size 1500x700 with 1 Axes>"
            ],
            "image/png": "[encoded data removed]"
          },
          "metadata": {}
        }
      ]
    },
    {
      "cell_type": "markdown",
      "source": [
        "Show data distribution based on density (kde - kernel density estimation)"
      ],
      "metadata": {
        "id": "LsjkfEScBUoN"
      }
    },
    {
      "cell_type": "code",
      "execution_count": 82,
      "metadata": {
        "colab": {
          "base_uri": "https://localhost:8080/",
          "height": 169
        },
        "id": "aiF0oNG7_bPz",
        "outputId": "bd3d570c-9e10-4d98-de13-e8fa85f9ac81"
      },
      "outputs": [
        {
          "output_type": "display_data",
          "data": {
            "text/plain": [
              "<Figure size 1500x1200 with 20 Axes>"
            ],
            "image/png": "[encoded data removed]"
          },
          "metadata": {}
        }
      ],
      "source": [
        "dataset.plot(kind='kde',subplots=True,layout=(10,2),figsize=(15,12), sharex=False)\n",
        "plt.show()"
      ]
    },
    {
      "cell_type": "markdown",
      "source": [
        "Show data distribution based on histogram"
      ],
      "metadata": {
        "id": "wLLPYJxoBkJj"
      }
    },
    {
      "cell_type": "code",
      "source": [
        "dataset.plot(kind='hist',subplots=True,layout=(10,2),figsize=(15,12), sharex=False)\n",
        "plt.show()"
      ],
      "metadata": {
        "colab": {
          "base_uri": "https://localhost:8080/",
          "height": 175
        },
        "id": "oGUJFv6oj_Ub",
        "outputId": "f476b5f0-1ab1-4ca3-ca80-fc04b51089c8"
      },
      "execution_count": 83,
      "outputs": [
        {
          "output_type": "display_data",
          "data": {
            "text/plain": [
              "<Figure size 1500x1200 with 20 Axes>"
            ],
            "image/png": "[encoded data removed]"
          },
          "metadata": {}
        }
      ]
    },
    {
      "cell_type": "code",
      "source": [
        "dataset.plot(kind='line',subplots=True,layout=(10,2),figsize=(15,12), sharex=False)\n",
        "plt.show()"
      ],
      "metadata": {
        "colab": {
          "base_uri": "https://localhost:8080/",
          "height": 173
        },
        "id": "MGk91iI0kZ_3",
        "outputId": "955eeaae-db52-409b-969a-6c09c4b65ee4"
      },
      "execution_count": 84,
      "outputs": [
        {
          "output_type": "display_data",
          "data": {
            "text/plain": [
              "<Figure size 1500x1200 with 20 Axes>"
            ],
            "image/png": "[encoded data removed]"
          },
          "metadata": {}
        }
      ]
    },
    {
      "cell_type": "markdown",
      "source": [
        "**3.2 CORRELATION MATRIX**"
      ],
      "metadata": {
        "id": "Rdb2Vu6ER6bG"
      }
    },
    {
      "cell_type": "code",
      "execution_count": 85,
      "metadata": {
        "colab": {
          "base_uri": "https://localhost:8080/",
          "height": 870
        },
        "id": "JJfeTBE8AoEU",
        "outputId": "cafe199e-79bf-4c3a-bc9b-205ade0e114b"
      },
      "outputs": [
        {
          "output_type": "display_data",
          "data": {
            "text/plain": [
              "<Figure size 1200x1200 with 9 Axes>"
            ],
            "image/png": "[encoded data removed]"
          },
          "metadata": {}
        }
      ],
      "source": [
        "pd.plotting.scatter_matrix(dataset,figsize=(12,12))\n",
        "plt.show()"
      ]
    },
    {
      "cell_type": "markdown",
      "source": [
        "correlation matrix with heatmap"
      ],
      "metadata": {
        "id": "3GkOv0zVElyF"
      }
    },
    {
      "cell_type": "code",
      "execution_count": 86,
      "metadata": {
        "colab": {
          "base_uri": "https://localhost:8080/",
          "height": 575
        },
        "id": "QOpTY-zcm2al",
        "outputId": "5a330736-75b1-40be-acd8-c4eecbecfd56"
      },
      "outputs": [
        {
          "output_type": "stream",
          "name": "stderr",
          "text": [
            "<ipython-input-86-4b443a21f68f>:2: FutureWarning: The default value of numeric_only in DataFrame.corr is deprecated. In a future version, it will default to False. Select only valid columns or specify the value of numeric_only to silence this warning.\n",
            "  corr = corr_data.corr()\n"
          ]
        },
        {
          "output_type": "display_data",
          "data": {
            "text/plain": [
              "<Figure size 1500x700 with 2 Axes>"
            ],
            "image/png": "[encoded data removed]"
          },
          "metadata": {}
        }
      ],
      "source": [
        "corr_data = dataset\n",
        "corr = corr_data.corr()\n",
        "\n",
        "cor_plot = sns.heatmap(corr,annot=True,cmap='RdYlGn',linewidths=0.2,annot_kws={'size':10})\n",
        "fig=plt.gcf()\n",
        "fig.set_size_inches(15,7)\n",
        "plt.xticks(fontsize=10,rotation=-30)\n",
        "plt.yticks(fontsize=10)\n",
        "plt.title('Correlation Matrix')\n",
        "plt.show()"
      ]
    },
    {
      "cell_type": "markdown",
      "source": [
        "**4. Splitting Dataset**"
      ],
      "metadata": {
        "id": "Ue-S5QvcEZP3"
      }
    },
    {
      "cell_type": "markdown",
      "source": [
        "**4.1 Slicing**"
      ],
      "metadata": {
        "id": "y6eAqlWSHSCa"
      }
    },
    {
      "cell_type": "markdown",
      "source": [
        "We define x and y as x for data and y for label"
      ],
      "metadata": {
        "id": "bPWKEA19HYEQ"
      }
    },
    {
      "cell_type": "code",
      "source": [
        "x = dataset.drop('AgeEnd', axis=1)\n",
        "x"
      ],
      "metadata": {
        "colab": {
          "base_uri": "https://localhost:8080/",
          "height": 423
        },
        "id": "hCep1ou2LfU1",
        "outputId": "97923022-0666-4079-a81a-1d491e5cfc73"
      },
      "execution_count": 88,
      "outputs": [
        {
          "output_type": "execute_result",
          "data": {
            "text/plain": [
              "                                                Address  AgeStart  HeightStart\n",
              "0     ,  , E 129 A SHOK NAGAR PRIDAY MARKET CHOWK DE...        16     122.0000\n",
              "1     , , JHUGGI NO. N- 78/102, SHIVANAND SCHOOL SEW...        19     153.0000\n",
              "2     , NO, 79, GALI NO. 3 KONDLI DELHI NEW A SHOK N...        19     153.0000\n",
              "3     , , 15/286, KALYANPURI DELHI KALYA NPURI EAST ...        24     153.0000\n",
              "4     , , 19-20, KABOOTAR MARKET WELCOM DELHI WELCO ...        21     153.0000\n",
              "...                                                 ...       ...          ...\n",
              "2121  , JUGGI NO 17/14 SITRA CAMP DELHI KALYANPURI K...        25     153.0000\n",
              "2122  , , T 35 RAM A ROAD MOOLCHAND COLONY DELHI ADA...        24     153.0000\n",
              "2123  , M ale, I 158 SUND ER NAGARI DELHI NORTH EAST...        15     153.0000\n",
              "2124  , HOUSE N O 446 NAUGHRA MOHALLAH TUGLAKABAD VI...        15     153.0000\n",
              "2126  , , HOUSE NO 81/13 CHURRIYA MOHALLAH N DELHI T...         5     168.5234\n",
              "\n",
              "[1922 rows x 3 columns]"
            ],
            "text/html": [
              "\n",
              "  <div id=\"df-0385e639-2fef-4cb5-93c2-161afec94f6f\">\n",
              "    <div class=\"colab-df-container\">\n",
              "      <div>\n",
              "<style scoped>\n",
              "    .dataframe tbody tr th:only-of-type {\n",
              "        vertical-align: middle;\n",
              "    }\n",
              "\n",
              "    .dataframe tbody tr th {\n",
              "        vertical-align: top;\n",
              "    }\n",
              "\n",
              "    .dataframe thead th {\n",
              "        text-align: right;\n",
              "    }\n",
              "</style>\n",
              "<table border=\"1\" class=\"dataframe\">\n",
              "  <thead>\n",
              "    <tr style=\"text-align: right;\">\n",
              "      <th></th>\n",
              "      <th>Address</th>\n",
              "      <th>AgeStart</th>\n",
              "      <th>HeightStart</th>\n",
              "    </tr>\n",
              "  </thead>\n",
              "  <tbody>\n",
              "    <tr>\n",
              "      <th>0</th>\n",
              "      <td>,  , E 129 A SHOK NAGAR PRIDAY MARKET CHOWK DE...</td>\n",
              "      <td>16</td>\n",
              "      <td>122.0000</td>\n",
              "    </tr>\n",
              "    <tr>\n",
              "      <th>1</th>\n",
              "      <td>, , JHUGGI NO. N- 78/102, SHIVANAND SCHOOL SEW...</td>\n",
              "      <td>19</td>\n",
              "      <td>153.0000</td>\n",
              "    </tr>\n",
              "    <tr>\n",
              "      <th>2</th>\n",
              "      <td>, NO, 79, GALI NO. 3 KONDLI DELHI NEW A SHOK N...</td>\n",
              "      <td>19</td>\n",
              "      <td>153.0000</td>\n",
              "    </tr>\n",
              "    <tr>\n",
              "      <th>3</th>\n",
              "      <td>, , 15/286, KALYANPURI DELHI KALYA NPURI EAST ...</td>\n",
              "      <td>24</td>\n",
              "      <td>153.0000</td>\n",
              "    </tr>\n",
              "    <tr>\n",
              "      <th>4</th>\n",
              "      <td>, , 19-20, KABOOTAR MARKET WELCOM DELHI WELCO ...</td>\n",
              "      <td>21</td>\n",
              "      <td>153.0000</td>\n",
              "    </tr>\n",
              "    <tr>\n",
              "      <th>...</th>\n",
              "      <td>...</td>\n",
              "      <td>...</td>\n",
              "      <td>...</td>\n",
              "    </tr>\n",
              "    <tr>\n",
              "      <th>2121</th>\n",
              "      <td>, JUGGI NO 17/14 SITRA CAMP DELHI KALYANPURI K...</td>\n",
              "      <td>25</td>\n",
              "      <td>153.0000</td>\n",
              "    </tr>\n",
              "    <tr>\n",
              "      <th>2122</th>\n",
              "      <td>, , T 35 RAM A ROAD MOOLCHAND COLONY DELHI ADA...</td>\n",
              "      <td>24</td>\n",
              "      <td>153.0000</td>\n",
              "    </tr>\n",
              "    <tr>\n",
              "      <th>2123</th>\n",
              "      <td>, M ale, I 158 SUND ER NAGARI DELHI NORTH EAST...</td>\n",
              "      <td>15</td>\n",
              "      <td>153.0000</td>\n",
              "    </tr>\n",
              "    <tr>\n",
              "      <th>2124</th>\n",
              "      <td>, HOUSE N O 446 NAUGHRA MOHALLAH TUGLAKABAD VI...</td>\n",
              "      <td>15</td>\n",
              "      <td>153.0000</td>\n",
              "    </tr>\n",
              "    <tr>\n",
              "      <th>2126</th>\n",
              "      <td>, , HOUSE NO 81/13 CHURRIYA MOHALLAH N DELHI T...</td>\n",
              "      <td>5</td>\n",
              "      <td>168.5234</td>\n",
              "    </tr>\n",
              "  </tbody>\n",
              "</table>\n",
              "<p>1922 rows × 3 columns</p>\n",
              "</div>\n",
              "      <button class=\"colab-df-convert\" onclick=\"convertToInteractive('df-0385e639-2fef-4cb5-93c2-161afec94f6f')\"\n",
              "              title=\"Convert this dataframe to an interactive table.\"\n",
              "              style=\"display:none;\">\n",
              "        \n",
              "  <svg xmlns=\"http://www.w3.org/2000/svg\" height=\"24px\"viewBox=\"0 0 24 24\"\n",
              "       width=\"24px\">\n",
              "    <path d=\"M0 0h24v24H0V0z\" fill=\"none\"/>\n",
              "    <path d=\"M18.56 5.44l.94 2.06.94-2.06 2.06-.94-2.06-.94-.94-2.06-.94 2.06-2.06.94zm-11 1L8.5 8.5l.94-2.06 2.06-.94-2.06-.94L8.5 2.5l-.94 2.06-2.06.94zm10 10l.94 2.06.94-2.06 2.06-.94-2.06-.94-.94-2.06-.94 2.06-2.06.94z\"/><path d=\"M17.41 7.96l-1.37-1.37c-.4-.4-.92-.59-1.43-.59-.52 0-1.04.2-1.43.59L10.3 9.45l-7.72 7.72c-.78.78-.78 2.05 0 2.83L4 21.41c.39.39.9.59 1.41.59.51 0 1.02-.2 1.41-.59l7.78-7.78 2.81-2.81c.8-.78.8-2.07 0-2.86zM5.41 20L4 18.59l7.72-7.72 1.47 1.35L5.41 20z\"/>\n",
              "  </svg>\n",
              "      </button>\n",
              "      \n",
              "  <style>\n",
              "    .colab-df-container {\n",
              "      display:flex;\n",
              "      flex-wrap:wrap;\n",
              "      gap: 12px;\n",
              "    }\n",
              "\n",
              "    .colab-df-convert {\n",
              "      background-color: #E8F0FE;\n",
              "      border: none;\n",
              "      border-radius: 50%;\n",
              "      cursor: pointer;\n",
              "      display: none;\n",
              "      fill: #1967D2;\n",
              "      height: 32px;\n",
              "      padding: 0 0 0 0;\n",
              "      width: 32px;\n",
              "    }\n",
              "\n",
              "    .colab-df-convert:hover {\n",
              "      background-color: #E2EBFA;\n",
              "      box-shadow: 0px 1px 2px rgba(60, 64, 67, 0.3), 0px 1px 3px 1px rgba(60, 64, 67, 0.15);\n",
              "      fill: #174EA6;\n",
              "    }\n",
              "\n",
              "    [theme=dark] .colab-df-convert {\n",
              "      background-color: #3B4455;\n",
              "      fill: #D2E3FC;\n",
              "    }\n",
              "\n",
              "    [theme=dark] .colab-df-convert:hover {\n",
              "      background-color: #434B5C;\n",
              "      box-shadow: 0px 1px 3px 1px rgba(0, 0, 0, 0.15);\n",
              "      filter: drop-shadow(0px 1px 2px rgba(0, 0, 0, 0.3));\n",
              "      fill: #FFFFFF;\n",
              "    }\n",
              "  </style>\n",
              "\n",
              "      <script>\n",
              "        const buttonEl =\n",
              "          document.querySelector('#df-0385e639-2fef-4cb5-93c2-161afec94f6f button.colab-df-convert');\n",
              "        buttonEl.style.display =\n",
              "          google.colab.kernel.accessAllowed ? 'block' : 'none';\n",
              "\n",
              "        async function convertToInteractive(key) {\n",
              "          const element = document.querySelector('#df-0385e639-2fef-4cb5-93c2-161afec94f6f');\n",
              "          const dataTable =\n",
              "            await google.colab.kernel.invokeFunction('convertToInteractive',\n",
              "                                                     [key], {});\n",
              "          if (!dataTable) return;\n",
              "\n",
              "          const docLinkHtml = 'Like what you see? Visit the ' +\n",
              "            '<a target=\"_blank\" href=https://colab.research.google.com/notebooks/data_table.ipynb>data table notebook</a>'\n",
              "            + ' to learn more about interactive tables.';\n",
              "          element.innerHTML = '';\n",
              "          dataTable['output_type'] = 'display_data';\n",
              "          await google.colab.output.renderOutput(dataTable, element);\n",
              "          const docLink = document.createElement('div');\n",
              "          docLink.innerHTML = docLinkHtml;\n",
              "          element.appendChild(docLink);\n",
              "        }\n",
              "      </script>\n",
              "    </div>\n",
              "  </div>\n",
              "  "
            ]
          },
          "metadata": {},
          "execution_count": 88
        }
      ]
    },
    {
      "cell_type": "markdown",
      "source": [
        "Choose feature Type as a label"
      ],
      "metadata": {
        "id": "SkZgXnQ-tST1"
      }
    },
    {
      "cell_type": "code",
      "source": [
        "y = dataset[\"AgeEnd\"]\n",
        "y"
      ],
      "metadata": {
        "colab": {
          "base_uri": "https://localhost:8080/"
        },
        "id": "WOZTLMYeh3hj",
        "outputId": "58599dca-d4b8-4229-f86e-96a1dbc9d7fd"
      },
      "execution_count": 89,
      "outputs": [
        {
          "output_type": "execute_result",
          "data": {
            "text/plain": [
              "0       17\n",
              "1       20\n",
              "2       20\n",
              "3       25\n",
              "4       22\n",
              "        ..\n",
              "2121    26\n",
              "2122    25\n",
              "2123    16\n",
              "2124    16\n",
              "2126     7\n",
              "Name: AgeEnd, Length: 1922, dtype: int64"
            ]
          },
          "metadata": {},
          "execution_count": 89
        }
      ]
    },
    {
      "cell_type": "code",
      "source": [
        "y.values.reshape(-1,1)"
      ],
      "metadata": {
        "colab": {
          "base_uri": "https://localhost:8080/"
        },
        "id": "l6idhdXTrLAD",
        "outputId": "7e19cdc5-1c0f-466d-e39e-2cdf3119ebb0"
      },
      "execution_count": 90,
      "outputs": [
        {
          "output_type": "execute_result",
          "data": {
            "text/plain": [
              "array([[17],\n",
              "       [20],\n",
              "       [20],\n",
              "       ...,\n",
              "       [16],\n",
              "       [16],\n",
              "       [ 7]])"
            ]
          },
          "metadata": {},
          "execution_count": 90
        }
      ]
    },
    {
      "cell_type": "markdown",
      "source": [
        "**4.2 Categorical Encoding**\n",
        "\n",
        "Choose One Hot Encoding or Label Encoding for perform categorical encoding\n",
        "\n",
        "**One-Hot Encoding for data input x**"
      ],
      "metadata": {
        "id": "-KhD3RU7qniq"
      }
    },
    {
      "cell_type": "code",
      "source": [
        "x = pd.get_dummies(x)\n",
        "x"
      ],
      "metadata": {
        "colab": {
          "base_uri": "https://localhost:8080/",
          "height": 730
        },
        "id": "y_K5f2vyqNef",
        "outputId": "63b6e986-e68e-4590-ad2d-1dab7b4f7bc3"
      },
      "execution_count": 91,
      "outputs": [
        {
          "output_type": "execute_result",
          "data": {
            "text/plain": [
              "      AgeStart  HeightStart  Address_ , ,  \\\n",
              "0           16     122.0000             0   \n",
              "1           19     153.0000             0   \n",
              "2           19     153.0000             0   \n",
              "3           24     153.0000             0   \n",
              "4           21     153.0000             0   \n",
              "...        ...          ...           ...   \n",
              "2121        25     153.0000             0   \n",
              "2122        24     153.0000             0   \n",
              "2123        15     153.0000             0   \n",
              "2124        15     153.0000             0   \n",
              "2126         5     168.5234             0   \n",
              "\n",
              "      Address_ , , J-407 KANCHAN BASTI MAYAPURI PHASE-2 MAYA PUR I WEST DELHI INDIA  \\\n",
              "0                                                     0                               \n",
              "1                                                     0                               \n",
              "2                                                     0                               \n",
              "3                                                     0                               \n",
              "4                                                     0                               \n",
              "...                                                 ...                               \n",
              "2121                                                  0                               \n",
              "2122                                                  0                               \n",
              "2123                                                  0                               \n",
              "2124                                                  0                               \n",
              "2126                                                  0                               \n",
              "\n",
              "      Address_ , ASHOK,SBS COLONY DELHI KARAWAL NAGAR KARAW AL NAGAR NORTH EAST DELHI INDIA  \\\n",
              "0                                                     0                                       \n",
              "1                                                     0                                       \n",
              "2                                                     0                                       \n",
              "3                                                     0                                       \n",
              "4                                                     0                                       \n",
              "...                                                 ...                                       \n",
              "2121                                                  0                                       \n",
              "2122                                                  0                                       \n",
              "2123                                                  0                                       \n",
              "2124                                                  0                                       \n",
              "2126                                                  0                                       \n",
              "\n",
              "      Address_ , BATTI ,  \\\n",
              "0                      0   \n",
              "1                      0   \n",
              "2                      0   \n",
              "3                      0   \n",
              "4                      0   \n",
              "...                  ...   \n",
              "2121                   0   \n",
              "2122                   0   \n",
              "2123                   0   \n",
              "2124                   0   \n",
              "2126                   0   \n",
              "\n",
              "      Address_ , BIJENDE RSINGH, JAHANGIRPURI DELHI JAHAN GIR PURI NORTH WEST DELHI INDIA  \\\n",
              "0                                                     0                                     \n",
              "1                                                     0                                     \n",
              "2                                                     0                                     \n",
              "3                                                     0                                     \n",
              "4                                                     0                                     \n",
              "...                                                 ...                                     \n",
              "2121                                                  0                                     \n",
              "2122                                                  0                                     \n",
              "2123                                                  0                                     \n",
              "2124                                                  0                                     \n",
              "2126                                                  0                                     \n",
              "\n",
              "      Address_ , BIMLAD EVI, GALI NO. 23, PREM NAGAR-II, KIRARI DELHI AMAN VIHAR OUTER DISTRICT DELHI INDIA  \\\n",
              "0                                                     0                                                       \n",
              "1                                                     0                                                       \n",
              "2                                                     0                                                       \n",
              "3                                                     0                                                       \n",
              "4                                                     0                                                       \n",
              "...                                                 ...                                                       \n",
              "2121                                                  0                                                       \n",
              "2122                                                  0                                                       \n",
              "2123                                                  0                                                       \n",
              "2124                                                  0                                                       \n",
              "2126                                                  0                                                       \n",
              "\n",
              "      Address_ , BIMLES H, PUNARWAS COLONY GAUTAM COLONY, NARELA DELHI NAREL A OUTER DISTRICT DELHI INDIA  \\\n",
              "0                                                     0                                                     \n",
              "1                                                     0                                                     \n",
              "2                                                     0                                                     \n",
              "3                                                     0                                                     \n",
              "4                                                     0                                                     \n",
              "...                                                 ...                                                     \n",
              "2121                                                  0                                                     \n",
              "2122                                                  0                                                     \n",
              "2123                                                  0                                                     \n",
              "2124                                                  0                                                     \n",
              "2126                                                  0                                                     \n",
              "\n",
              "      Address_ , BISRAM SINGH,  ...  \\\n",
              "0                            0  ...   \n",
              "1                            0  ...   \n",
              "2                            0  ...   \n",
              "3                            0  ...   \n",
              "4                            0  ...   \n",
              "...                        ...  ...   \n",
              "2121                         0  ...   \n",
              "2122                         0  ...   \n",
              "2123                         0  ...   \n",
              "2124                         0  ...   \n",
              "2126                         0  ...   \n",
              "\n",
              "      Address_SUBHAMMAHES , , SCHOOL BLOCK SHAKARPUR DELHI SHAKA RPUR EAST DELH I INDIA  \\\n",
              "0                                                     0                                   \n",
              "1                                                     0                                   \n",
              "2                                                     0                                   \n",
              "3                                                     0                                   \n",
              "4                                                     0                                   \n",
              "...                                                 ...                                   \n",
              "2121                                                  0                                   \n",
              "2122                                                  0                                   \n",
              "2123                                                  0                                   \n",
              "2124                                                  0                                   \n",
              "2126                                                  0                                   \n",
              "\n",
              "      Address_SUKHNANDANTI , SHAN KARTIWARI, GALI NO. 11 MOHAN BABA NAGAR, BADARPUR NEW DELHI BADARPUR SOUTH-EAS T DELHI INDIA  \\\n",
              "0                                                     0                                                                          \n",
              "1                                                     0                                                                          \n",
              "2                                                     0                                                                          \n",
              "3                                                     0                                                                          \n",
              "4                                                     0                                                                          \n",
              "...                                                 ...                                                                          \n",
              "2121                                                  0                                                                          \n",
              "2122                                                  0                                                                          \n",
              "2123                                                  0                                                                          \n",
              "2124                                                  0                                                                          \n",
              "2126                                                  0                                                                          \n",
              "\n",
              "      Address_SURENDERKUMA , SARO JBALA, LALITA PARK LAXMI NAGAR DELHI SHAKA RPUR EAST DELH I INDIA  \\\n",
              "0                                                     0                                               \n",
              "1                                                     0                                               \n",
              "2                                                     0                                               \n",
              "3                                                     0                                               \n",
              "4                                                     0                                               \n",
              "...                                                 ...                                               \n",
              "2121                                                  0                                               \n",
              "2122                                                  0                                               \n",
              "2123                                                  0                                               \n",
              "2124                                                  0                                               \n",
              "2126                                                  0                                               \n",
              "\n",
              "      Address_SURJANSINGHC , RITUC HAUHAN, ADARSH ENCLAVE, PREM NAGAR III, KIRARI DELHI AMAN VIHAR OUTER DISTRICT DELHI INDIA  \\\n",
              "0                                                     0                                                                         \n",
              "1                                                     0                                                                         \n",
              "2                                                     0                                                                         \n",
              "3                                                     0                                                                         \n",
              "4                                                     0                                                                         \n",
              "...                                                 ...                                                                         \n",
              "2121                                                  0                                                                         \n",
              "2122                                                  0                                                                         \n",
              "2123                                                  0                                                                         \n",
              "2124                                                  0                                                                         \n",
              "2126                                                  0                                                                         \n",
              "\n",
              "      Address_SWAHATPARVEE , MOHDO DAIDUR RAHMAN, G ALI NO. 8 SHAHEEN BAGH, JAMIA NAGAR NEW DE LHI JAMIA NAG AR SOUTH-EAST DELHI INDIA  \\\n",
              "0                                                     0                                                                                  \n",
              "1                                                     0                                                                                  \n",
              "2                                                     0                                                                                  \n",
              "3                                                     0                                                                                  \n",
              "4                                                     0                                                                                  \n",
              "...                                                 ...                                                                                  \n",
              "2121                                                  0                                                                                  \n",
              "2122                                                  0                                                                                  \n",
              "2123                                                  0                                                                                  \n",
              "2124                                                  0                                                                                  \n",
              "2126                                                  0                                                                                  \n",
              "\n",
              "      Address_TABASSUMJAHA , ZAKIRH USSAIN, JAHANGIRPURI DELHI JAHAN GIR PURI NORTH WEST DELHI INDIA  \\\n",
              "0                                                     0                                                \n",
              "1                                                     0                                                \n",
              "2                                                     0                                                \n",
              "3                                                     0                                                \n",
              "4                                                     0                                                \n",
              "...                                                 ...                                                \n",
              "2121                                                  0                                                \n",
              "2122                                                  0                                                \n",
              "2123                                                  0                                                \n",
              "2124                                                  0                                                \n",
              "2126                                                  0                                                \n",
              "\n",
              "      Address_VINAYKUMARSIN , VINOD KUMARSIN 85, ASHOK VIHAR PH-III GURGA ON GURGAON HARYANA INDIA  \\\n",
              "0                                                     0                                              \n",
              "1                                                     0                                              \n",
              "2                                                     0                                              \n",
              "3                                                     0                                              \n",
              "4                                                     0                                              \n",
              "...                                                 ...                                              \n",
              "2121                                                  0                                              \n",
              "2122                                                  0                                              \n",
              "2123                                                  0                                              \n",
              "2124                                                  0                                              \n",
              "2126                                                  0                                              \n",
              "\n",
              "      Address_VINODKUMARKH , SANJ AY, MEHRAULI NEW DELHI MEHRAULI SOUTH DELHI INDIA  \\\n",
              "0                                                     0                               \n",
              "1                                                     0                               \n",
              "2                                                     0                               \n",
              "3                                                     0                               \n",
              "4                                                     0                               \n",
              "...                                                 ...                               \n",
              "2121                                                  0                               \n",
              "2122                                                  0                               \n",
              "2123                                                  0                               \n",
              "2124                                                  0                               \n",
              "2126                                                  0                               \n",
              "\n",
              "      Address_YASHPALCHAUH , UMAD EVI, SWA MI DAYANAND COLONY PADAM NAGAR DELHI SARAI ROHILLA NORTH DELHI INDIA  \\\n",
              "0                                                     0                                                           \n",
              "1                                                     0                                                           \n",
              "2                                                     0                                                           \n",
              "3                                                     0                                                           \n",
              "4                                                     0                                                           \n",
              "...                                                 ...                                                           \n",
              "2121                                                  0                                                           \n",
              "2122                                                  0                                                           \n",
              "2123                                                  0                                                           \n",
              "2124                                                  0                                                           \n",
              "2126                                                  0                                                           \n",
              "\n",
              "      Address_YOVANJEETSING , HARP REETSINGH RZ-299,  \n",
              "0                                                  0  \n",
              "1                                                  0  \n",
              "2                                                  0  \n",
              "3                                                  0  \n",
              "4                                                  0  \n",
              "...                                              ...  \n",
              "2121                                               0  \n",
              "2122                                               0  \n",
              "2123                                               0  \n",
              "2124                                               0  \n",
              "2126                                               0  \n",
              "\n",
              "[1922 rows x 1908 columns]"
            ],
            "text/html": [
              "\n",
              "  <div id=\"df-04abcb48-6e00-4b22-b3c8-9183e00ed13a\">\n",
              "    <div class=\"colab-df-container\">\n",
              "      <div>\n",
              "<style scoped>\n",
              "    .dataframe tbody tr th:only-of-type {\n",
              "        vertical-align: middle;\n",
              "    }\n",
              "\n",
              "    .dataframe tbody tr th {\n",
              "        vertical-align: top;\n",
              "    }\n",
              "\n",
              "    .dataframe thead th {\n",
              "        text-align: right;\n",
              "    }\n",
              "</style>\n",
              "<table border=\"1\" class=\"dataframe\">\n",
              "  <thead>\n",
              "    <tr style=\"text-align: right;\">\n",
              "      <th></th>\n",
              "      <th>AgeStart</th>\n",
              "      <th>HeightStart</th>\n",
              "      <th>Address_ , ,</th>\n",
              "      <th>Address_ , , J-407 KANCHAN BASTI MAYAPURI PHASE-2 MAYA PUR I WEST DELHI INDIA</th>\n",
              "      <th>Address_ , ASHOK,SBS COLONY DELHI KARAWAL NAGAR KARAW AL NAGAR NORTH EAST DELHI INDIA</th>\n",
              "      <th>Address_ , BATTI ,</th>\n",
              "      <th>Address_ , BIJENDE RSINGH, JAHANGIRPURI DELHI JAHAN GIR PURI NORTH WEST DELHI INDIA</th>\n",
              "      <th>Address_ , BIMLAD EVI, GALI NO. 23, PREM NAGAR-II, KIRARI DELHI AMAN VIHAR OUTER DISTRICT DELHI INDIA</th>\n",
              "      <th>Address_ , BIMLES H, PUNARWAS COLONY GAUTAM COLONY, NARELA DELHI NAREL A OUTER DISTRICT DELHI INDIA</th>\n",
              "      <th>Address_ , BISRAM SINGH,</th>\n",
              "      <th>...</th>\n",
              "      <th>Address_SUBHAMMAHES , , SCHOOL BLOCK SHAKARPUR DELHI SHAKA RPUR EAST DELH I INDIA</th>\n",
              "      <th>Address_SUKHNANDANTI , SHAN KARTIWARI, GALI NO. 11 MOHAN BABA NAGAR, BADARPUR NEW DELHI BADARPUR SOUTH-EAS T DELHI INDIA</th>\n",
              "      <th>Address_SURENDERKUMA , SARO JBALA, LALITA PARK LAXMI NAGAR DELHI SHAKA RPUR EAST DELH I INDIA</th>\n",
              "      <th>Address_SURJANSINGHC , RITUC HAUHAN, ADARSH ENCLAVE, PREM NAGAR III, KIRARI DELHI AMAN VIHAR OUTER DISTRICT DELHI INDIA</th>\n",
              "      <th>Address_SWAHATPARVEE , MOHDO DAIDUR RAHMAN, G ALI NO. 8 SHAHEEN BAGH, JAMIA NAGAR NEW DE LHI JAMIA NAG AR SOUTH-EAST DELHI INDIA</th>\n",
              "      <th>Address_TABASSUMJAHA , ZAKIRH USSAIN, JAHANGIRPURI DELHI JAHAN GIR PURI NORTH WEST DELHI INDIA</th>\n",
              "      <th>Address_VINAYKUMARSIN , VINOD KUMARSIN 85, ASHOK VIHAR PH-III GURGA ON GURGAON HARYANA INDIA</th>\n",
              "      <th>Address_VINODKUMARKH , SANJ AY, MEHRAULI NEW DELHI MEHRAULI SOUTH DELHI INDIA</th>\n",
              "      <th>Address_YASHPALCHAUH , UMAD EVI, SWA MI DAYANAND COLONY PADAM NAGAR DELHI SARAI ROHILLA NORTH DELHI INDIA</th>\n",
              "      <th>Address_YOVANJEETSING , HARP REETSINGH RZ-299,</th>\n",
              "    </tr>\n",
              "  </thead>\n",
              "  <tbody>\n",
              "    <tr>\n",
              "      <th>0</th>\n",
              "      <td>16</td>\n",
              "      <td>122.0000</td>\n",
              "      <td>0</td>\n",
              "      <td>0</td>\n",
              "      <td>0</td>\n",
              "      <td>0</td>\n",
              "      <td>0</td>\n",
              "      <td>0</td>\n",
              "      <td>0</td>\n",
              "      <td>0</td>\n",
              "      <td>...</td>\n",
              "      <td>0</td>\n",
              "      <td>0</td>\n",
              "      <td>0</td>\n",
              "      <td>0</td>\n",
              "      <td>0</td>\n",
              "      <td>0</td>\n",
              "      <td>0</td>\n",
              "      <td>0</td>\n",
              "      <td>0</td>\n",
              "      <td>0</td>\n",
              "    </tr>\n",
              "    <tr>\n",
              "      <th>1</th>\n",
              "      <td>19</td>\n",
              "      <td>153.0000</td>\n",
              "      <td>0</td>\n",
              "      <td>0</td>\n",
              "      <td>0</td>\n",
              "      <td>0</td>\n",
              "      <td>0</td>\n",
              "      <td>0</td>\n",
              "      <td>0</td>\n",
              "      <td>0</td>\n",
              "      <td>...</td>\n",
              "      <td>0</td>\n",
              "      <td>0</td>\n",
              "      <td>0</td>\n",
              "      <td>0</td>\n",
              "      <td>0</td>\n",
              "      <td>0</td>\n",
              "      <td>0</td>\n",
              "      <td>0</td>\n",
              "      <td>0</td>\n",
              "      <td>0</td>\n",
              "    </tr>\n",
              "    <tr>\n",
              "      <th>2</th>\n",
              "      <td>19</td>\n",
              "      <td>153.0000</td>\n",
              "      <td>0</td>\n",
              "      <td>0</td>\n",
              "      <td>0</td>\n",
              "      <td>0</td>\n",
              "      <td>0</td>\n",
              "      <td>0</td>\n",
              "      <td>0</td>\n",
              "      <td>0</td>\n",
              "      <td>...</td>\n",
              "      <td>0</td>\n",
              "      <td>0</td>\n",
              "      <td>0</td>\n",
              "      <td>0</td>\n",
              "      <td>0</td>\n",
              "      <td>0</td>\n",
              "      <td>0</td>\n",
              "      <td>0</td>\n",
              "      <td>0</td>\n",
              "      <td>0</td>\n",
              "    </tr>\n",
              "    <tr>\n",
              "      <th>3</th>\n",
              "      <td>24</td>\n",
              "      <td>153.0000</td>\n",
              "      <td>0</td>\n",
              "      <td>0</td>\n",
              "      <td>0</td>\n",
              "      <td>0</td>\n",
              "      <td>0</td>\n",
              "      <td>0</td>\n",
              "      <td>0</td>\n",
              "      <td>0</td>\n",
              "      <td>...</td>\n",
              "      <td>0</td>\n",
              "      <td>0</td>\n",
              "      <td>0</td>\n",
              "      <td>0</td>\n",
              "      <td>0</td>\n",
              "      <td>0</td>\n",
              "      <td>0</td>\n",
              "      <td>0</td>\n",
              "      <td>0</td>\n",
              "      <td>0</td>\n",
              "    </tr>\n",
              "    <tr>\n",
              "      <th>4</th>\n",
              "      <td>21</td>\n",
              "      <td>153.0000</td>\n",
              "      <td>0</td>\n",
              "      <td>0</td>\n",
              "      <td>0</td>\n",
              "      <td>0</td>\n",
              "      <td>0</td>\n",
              "      <td>0</td>\n",
              "      <td>0</td>\n",
              "      <td>0</td>\n",
              "      <td>...</td>\n",
              "      <td>0</td>\n",
              "      <td>0</td>\n",
              "      <td>0</td>\n",
              "      <td>0</td>\n",
              "      <td>0</td>\n",
              "      <td>0</td>\n",
              "      <td>0</td>\n",
              "      <td>0</td>\n",
              "      <td>0</td>\n",
              "      <td>0</td>\n",
              "    </tr>\n",
              "    <tr>\n",
              "      <th>...</th>\n",
              "      <td>...</td>\n",
              "      <td>...</td>\n",
              "      <td>...</td>\n",
              "      <td>...</td>\n",
              "      <td>...</td>\n",
              "      <td>...</td>\n",
              "      <td>...</td>\n",
              "      <td>...</td>\n",
              "      <td>...</td>\n",
              "      <td>...</td>\n",
              "      <td>...</td>\n",
              "      <td>...</td>\n",
              "      <td>...</td>\n",
              "      <td>...</td>\n",
              "      <td>...</td>\n",
              "      <td>...</td>\n",
              "      <td>...</td>\n",
              "      <td>...</td>\n",
              "      <td>...</td>\n",
              "      <td>...</td>\n",
              "      <td>...</td>\n",
              "    </tr>\n",
              "    <tr>\n",
              "      <th>2121</th>\n",
              "      <td>25</td>\n",
              "      <td>153.0000</td>\n",
              "      <td>0</td>\n",
              "      <td>0</td>\n",
              "      <td>0</td>\n",
              "      <td>0</td>\n",
              "      <td>0</td>\n",
              "      <td>0</td>\n",
              "      <td>0</td>\n",
              "      <td>0</td>\n",
              "      <td>...</td>\n",
              "      <td>0</td>\n",
              "      <td>0</td>\n",
              "      <td>0</td>\n",
              "      <td>0</td>\n",
              "      <td>0</td>\n",
              "      <td>0</td>\n",
              "      <td>0</td>\n",
              "      <td>0</td>\n",
              "      <td>0</td>\n",
              "      <td>0</td>\n",
              "    </tr>\n",
              "    <tr>\n",
              "      <th>2122</th>\n",
              "      <td>24</td>\n",
              "      <td>153.0000</td>\n",
              "      <td>0</td>\n",
              "      <td>0</td>\n",
              "      <td>0</td>\n",
              "      <td>0</td>\n",
              "      <td>0</td>\n",
              "      <td>0</td>\n",
              "      <td>0</td>\n",
              "      <td>0</td>\n",
              "      <td>...</td>\n",
              "      <td>0</td>\n",
              "      <td>0</td>\n",
              "      <td>0</td>\n",
              "      <td>0</td>\n",
              "      <td>0</td>\n",
              "      <td>0</td>\n",
              "      <td>0</td>\n",
              "      <td>0</td>\n",
              "      <td>0</td>\n",
              "      <td>0</td>\n",
              "    </tr>\n",
              "    <tr>\n",
              "      <th>2123</th>\n",
              "      <td>15</td>\n",
              "      <td>153.0000</td>\n",
              "      <td>0</td>\n",
              "      <td>0</td>\n",
              "      <td>0</td>\n",
              "      <td>0</td>\n",
              "      <td>0</td>\n",
              "      <td>0</td>\n",
              "      <td>0</td>\n",
              "      <td>0</td>\n",
              "      <td>...</td>\n",
              "      <td>0</td>\n",
              "      <td>0</td>\n",
              "      <td>0</td>\n",
              "      <td>0</td>\n",
              "      <td>0</td>\n",
              "      <td>0</td>\n",
              "      <td>0</td>\n",
              "      <td>0</td>\n",
              "      <td>0</td>\n",
              "      <td>0</td>\n",
              "    </tr>\n",
              "    <tr>\n",
              "      <th>2124</th>\n",
              "      <td>15</td>\n",
              "      <td>153.0000</td>\n",
              "      <td>0</td>\n",
              "      <td>0</td>\n",
              "      <td>0</td>\n",
              "      <td>0</td>\n",
              "      <td>0</td>\n",
              "      <td>0</td>\n",
              "      <td>0</td>\n",
              "      <td>0</td>\n",
              "      <td>...</td>\n",
              "      <td>0</td>\n",
              "      <td>0</td>\n",
              "      <td>0</td>\n",
              "      <td>0</td>\n",
              "      <td>0</td>\n",
              "      <td>0</td>\n",
              "      <td>0</td>\n",
              "      <td>0</td>\n",
              "      <td>0</td>\n",
              "      <td>0</td>\n",
              "    </tr>\n",
              "    <tr>\n",
              "      <th>2126</th>\n",
              "      <td>5</td>\n",
              "      <td>168.5234</td>\n",
              "      <td>0</td>\n",
              "      <td>0</td>\n",
              "      <td>0</td>\n",
              "      <td>0</td>\n",
              "      <td>0</td>\n",
              "      <td>0</td>\n",
              "      <td>0</td>\n",
              "      <td>0</td>\n",
              "      <td>...</td>\n",
              "      <td>0</td>\n",
              "      <td>0</td>\n",
              "      <td>0</td>\n",
              "      <td>0</td>\n",
              "      <td>0</td>\n",
              "      <td>0</td>\n",
              "      <td>0</td>\n",
              "      <td>0</td>\n",
              "      <td>0</td>\n",
              "      <td>0</td>\n",
              "    </tr>\n",
              "  </tbody>\n",
              "</table>\n",
              "<p>1922 rows × 1908 columns</p>\n",
              "</div>\n",
              "      <button class=\"colab-df-convert\" onclick=\"convertToInteractive('df-04abcb48-6e00-4b22-b3c8-9183e00ed13a')\"\n",
              "              title=\"Convert this dataframe to an interactive table.\"\n",
              "              style=\"display:none;\">\n",
              "        \n",
              "  <svg xmlns=\"http://www.w3.org/2000/svg\" height=\"24px\"viewBox=\"0 0 24 24\"\n",
              "       width=\"24px\">\n",
              "    <path d=\"M0 0h24v24H0V0z\" fill=\"none\"/>\n",
              "    <path d=\"M18.56 5.44l.94 2.06.94-2.06 2.06-.94-2.06-.94-.94-2.06-.94 2.06-2.06.94zm-11 1L8.5 8.5l.94-2.06 2.06-.94-2.06-.94L8.5 2.5l-.94 2.06-2.06.94zm10 10l.94 2.06.94-2.06 2.06-.94-2.06-.94-.94-2.06-.94 2.06-2.06.94z\"/><path d=\"M17.41 7.96l-1.37-1.37c-.4-.4-.92-.59-1.43-.59-.52 0-1.04.2-1.43.59L10.3 9.45l-7.72 7.72c-.78.78-.78 2.05 0 2.83L4 21.41c.39.39.9.59 1.41.59.51 0 1.02-.2 1.41-.59l7.78-7.78 2.81-2.81c.8-.78.8-2.07 0-2.86zM5.41 20L4 18.59l7.72-7.72 1.47 1.35L5.41 20z\"/>\n",
              "  </svg>\n",
              "      </button>\n",
              "      \n",
              "  <style>\n",
              "    .colab-df-container {\n",
              "      display:flex;\n",
              "      flex-wrap:wrap;\n",
              "      gap: 12px;\n",
              "    }\n",
              "\n",
              "    .colab-df-convert {\n",
              "      background-color: #E8F0FE;\n",
              "      border: none;\n",
              "      border-radius: 50%;\n",
              "      cursor: pointer;\n",
              "      display: none;\n",
              "      fill: #1967D2;\n",
              "      height: 32px;\n",
              "      padding: 0 0 0 0;\n",
              "      width: 32px;\n",
              "    }\n",
              "\n",
              "    .colab-df-convert:hover {\n",
              "      background-color: #E2EBFA;\n",
              "      box-shadow: 0px 1px 2px rgba(60, 64, 67, 0.3), 0px 1px 3px 1px rgba(60, 64, 67, 0.15);\n",
              "      fill: #174EA6;\n",
              "    }\n",
              "\n",
              "    [theme=dark] .colab-df-convert {\n",
              "      background-color: #3B4455;\n",
              "      fill: #D2E3FC;\n",
              "    }\n",
              "\n",
              "    [theme=dark] .colab-df-convert:hover {\n",
              "      background-color: #434B5C;\n",
              "      box-shadow: 0px 1px 3px 1px rgba(0, 0, 0, 0.15);\n",
              "      filter: drop-shadow(0px 1px 2px rgba(0, 0, 0, 0.3));\n",
              "      fill: #FFFFFF;\n",
              "    }\n",
              "  </style>\n",
              "\n",
              "      <script>\n",
              "        const buttonEl =\n",
              "          document.querySelector('#df-04abcb48-6e00-4b22-b3c8-9183e00ed13a button.colab-df-convert');\n",
              "        buttonEl.style.display =\n",
              "          google.colab.kernel.accessAllowed ? 'block' : 'none';\n",
              "\n",
              "        async function convertToInteractive(key) {\n",
              "          const element = document.querySelector('#df-04abcb48-6e00-4b22-b3c8-9183e00ed13a');\n",
              "          const dataTable =\n",
              "            await google.colab.kernel.invokeFunction('convertToInteractive',\n",
              "                                                     [key], {});\n",
              "          if (!dataTable) return;\n",
              "\n",
              "          const docLinkHtml = 'Like what you see? Visit the ' +\n",
              "            '<a target=\"_blank\" href=https://colab.research.google.com/notebooks/data_table.ipynb>data table notebook</a>'\n",
              "            + ' to learn more about interactive tables.';\n",
              "          element.innerHTML = '';\n",
              "          dataTable['output_type'] = 'display_data';\n",
              "          await google.colab.output.renderOutput(dataTable, element);\n",
              "          const docLink = document.createElement('div');\n",
              "          docLink.innerHTML = docLinkHtml;\n",
              "          element.appendChild(docLink);\n",
              "        }\n",
              "      </script>\n",
              "    </div>\n",
              "  </div>\n",
              "  "
            ]
          },
          "metadata": {},
          "execution_count": 91
        }
      ]
    },
    {
      "cell_type": "code",
      "source": [
        "x.shape"
      ],
      "metadata": {
        "colab": {
          "base_uri": "https://localhost:8080/"
        },
        "id": "bTWosUkWqZyG",
        "outputId": "40645c46-edea-430a-dc6d-aa902fd507b7"
      },
      "execution_count": 92,
      "outputs": [
        {
          "output_type": "execute_result",
          "data": {
            "text/plain": [
              "(1922, 1908)"
            ]
          },
          "metadata": {},
          "execution_count": 92
        }
      ]
    },
    {
      "cell_type": "markdown",
      "source": [
        "**4.2.1 Standarization**"
      ],
      "metadata": {
        "id": "BuOZc5O6GUJz"
      }
    },
    {
      "cell_type": "markdown",
      "source": [
        "Standardization is used on the data values that are normally distributed. Further, by applying standardization, we tend to make the mean of the dataset as 0 and the standard deviation equivalent to 1.\n",
        "\n",
        "That is, by standardizing the values, we get the following statistics of the data distribution\n",
        "\n",
        "mean = 0\n",
        "standard deviation = 1\n",
        "\n",
        "Thus, by this the data set becomes self explanatory and easy to analyze as the mean turns down to 0 and it happens to have an unit variance.\n",
        "\n",
        "References: https://www.askpython.com/python/examples/standardize-data-in-python#:~:text=Ways%20to%20Standardize%20Data%20in%20Python%201%201.,load_iris%20...%202%202.%20Using%20StandardScaler%20%28%29%20function"
      ],
      "metadata": {
        "id": "B4NxpFrsHDmP"
      }
    },
    {
      "cell_type": "code",
      "source": [
        "from sklearn.preprocessing import StandardScaler\n",
        "std_scale = StandardScaler().fit_transform(x)\n",
        "std_scale = pd.DataFrame(std_scale)\n",
        "\n",
        "std_scale"
      ],
      "metadata": {
        "colab": {
          "base_uri": "https://localhost:8080/",
          "height": 487
        },
        "id": "GR-GhzRXGRNg",
        "outputId": "3ad16355-c4a6-4aa1-f8e3-4c0d1b0b6f7c"
      },
      "execution_count": 93,
      "outputs": [
        {
          "output_type": "execute_result",
          "data": {
            "text/plain": [
              "          0         1         2         3         4         5         6     \\\n",
              "0    -0.690131 -0.146960 -0.032275 -0.022816 -0.022816 -0.022816 -0.022816   \n",
              "1    -0.358744 -0.047525 -0.032275 -0.022816 -0.022816 -0.022816 -0.022816   \n",
              "2    -0.358744 -0.047525 -0.032275 -0.022816 -0.022816 -0.022816 -0.022816   \n",
              "3     0.193568 -0.047525 -0.032275 -0.022816 -0.022816 -0.022816 -0.022816   \n",
              "4    -0.137819 -0.047525 -0.032275 -0.022816 -0.022816 -0.022816 -0.022816   \n",
              "...        ...       ...       ...       ...       ...       ...       ...   \n",
              "1917  0.304030 -0.047525 -0.032275 -0.022816 -0.022816 -0.022816 -0.022816   \n",
              "1918  0.193568 -0.047525 -0.032275 -0.022816 -0.022816 -0.022816 -0.022816   \n",
              "1919 -0.800593 -0.047525 -0.032275 -0.022816 -0.022816 -0.022816 -0.022816   \n",
              "1920 -0.800593 -0.047525 -0.032275 -0.022816 -0.022816 -0.022816 -0.022816   \n",
              "1921 -1.905217  0.002268 -0.032275 -0.022816 -0.022816 -0.022816 -0.022816   \n",
              "\n",
              "          7         8         9     ...      1898      1899      1900  \\\n",
              "0    -0.022816 -0.022816 -0.022816  ... -0.022816 -0.022816 -0.022816   \n",
              "1    -0.022816 -0.022816 -0.022816  ... -0.022816 -0.022816 -0.022816   \n",
              "2    -0.022816 -0.022816 -0.022816  ... -0.022816 -0.022816 -0.022816   \n",
              "3    -0.022816 -0.022816 -0.022816  ... -0.022816 -0.022816 -0.022816   \n",
              "4    -0.022816 -0.022816 -0.022816  ... -0.022816 -0.022816 -0.022816   \n",
              "...        ...       ...       ...  ...       ...       ...       ...   \n",
              "1917 -0.022816 -0.022816 -0.022816  ... -0.022816 -0.022816 -0.022816   \n",
              "1918 -0.022816 -0.022816 -0.022816  ... -0.022816 -0.022816 -0.022816   \n",
              "1919 -0.022816 -0.022816 -0.022816  ... -0.022816 -0.022816 -0.022816   \n",
              "1920 -0.022816 -0.022816 -0.022816  ... -0.022816 -0.022816 -0.022816   \n",
              "1921 -0.022816 -0.022816 -0.022816  ... -0.022816 -0.022816 -0.022816   \n",
              "\n",
              "          1901      1902      1903      1904      1905      1906      1907  \n",
              "0    -0.022816 -0.022816 -0.022816 -0.022816 -0.022816 -0.022816 -0.022816  \n",
              "1    -0.022816 -0.022816 -0.022816 -0.022816 -0.022816 -0.022816 -0.022816  \n",
              "2    -0.022816 -0.022816 -0.022816 -0.022816 -0.022816 -0.022816 -0.022816  \n",
              "3    -0.022816 -0.022816 -0.022816 -0.022816 -0.022816 -0.022816 -0.022816  \n",
              "4    -0.022816 -0.022816 -0.022816 -0.022816 -0.022816 -0.022816 -0.022816  \n",
              "...        ...       ...       ...       ...       ...       ...       ...  \n",
              "1917 -0.022816 -0.022816 -0.022816 -0.022816 -0.022816 -0.022816 -0.022816  \n",
              "1918 -0.022816 -0.022816 -0.022816 -0.022816 -0.022816 -0.022816 -0.022816  \n",
              "1919 -0.022816 -0.022816 -0.022816 -0.022816 -0.022816 -0.022816 -0.022816  \n",
              "1920 -0.022816 -0.022816 -0.022816 -0.022816 -0.022816 -0.022816 -0.022816  \n",
              "1921 -0.022816 -0.022816 -0.022816 -0.022816 -0.022816 -0.022816 -0.022816  \n",
              "\n",
              "[1922 rows x 1908 columns]"
            ],
            "text/html": [
              "\n",
              "  <div id=\"df-c95f90f5-2d89-4e5a-afc4-7d9fa218b65c\">\n",
              "    <div class=\"colab-df-container\">\n",
              "      <div>\n",
              "<style scoped>\n",
              "    .dataframe tbody tr th:only-of-type {\n",
              "        vertical-align: middle;\n",
              "    }\n",
              "\n",
              "    .dataframe tbody tr th {\n",
              "        vertical-align: top;\n",
              "    }\n",
              "\n",
              "    .dataframe thead th {\n",
              "        text-align: right;\n",
              "    }\n",
              "</style>\n",
              "<table border=\"1\" class=\"dataframe\">\n",
              "  <thead>\n",
              "    <tr style=\"text-align: right;\">\n",
              "      <th></th>\n",
              "      <th>0</th>\n",
              "      <th>1</th>\n",
              "      <th>2</th>\n",
              "      <th>3</th>\n",
              "      <th>4</th>\n",
              "      <th>5</th>\n",
              "      <th>6</th>\n",
              "      <th>7</th>\n",
              "      <th>8</th>\n",
              "      <th>9</th>\n",
              "      <th>...</th>\n",
              "      <th>1898</th>\n",
              "      <th>1899</th>\n",
              "      <th>1900</th>\n",
              "      <th>1901</th>\n",
              "      <th>1902</th>\n",
              "      <th>1903</th>\n",
              "      <th>1904</th>\n",
              "      <th>1905</th>\n",
              "      <th>1906</th>\n",
              "      <th>1907</th>\n",
              "    </tr>\n",
              "  </thead>\n",
              "  <tbody>\n",
              "    <tr>\n",
              "      <th>0</th>\n",
              "      <td>-0.690131</td>\n",
              "      <td>-0.146960</td>\n",
              "      <td>-0.032275</td>\n",
              "      <td>-0.022816</td>\n",
              "      <td>-0.022816</td>\n",
              "      <td>-0.022816</td>\n",
              "      <td>-0.022816</td>\n",
              "      <td>-0.022816</td>\n",
              "      <td>-0.022816</td>\n",
              "      <td>-0.022816</td>\n",
              "      <td>...</td>\n",
              "      <td>-0.022816</td>\n",
              "      <td>-0.022816</td>\n",
              "      <td>-0.022816</td>\n",
              "      <td>-0.022816</td>\n",
              "      <td>-0.022816</td>\n",
              "      <td>-0.022816</td>\n",
              "      <td>-0.022816</td>\n",
              "      <td>-0.022816</td>\n",
              "      <td>-0.022816</td>\n",
              "      <td>-0.022816</td>\n",
              "    </tr>\n",
              "    <tr>\n",
              "      <th>1</th>\n",
              "      <td>-0.358744</td>\n",
              "      <td>-0.047525</td>\n",
              "      <td>-0.032275</td>\n",
              "      <td>-0.022816</td>\n",
              "      <td>-0.022816</td>\n",
              "      <td>-0.022816</td>\n",
              "      <td>-0.022816</td>\n",
              "      <td>-0.022816</td>\n",
              "      <td>-0.022816</td>\n",
              "      <td>-0.022816</td>\n",
              "      <td>...</td>\n",
              "      <td>-0.022816</td>\n",
              "      <td>-0.022816</td>\n",
              "      <td>-0.022816</td>\n",
              "      <td>-0.022816</td>\n",
              "      <td>-0.022816</td>\n",
              "      <td>-0.022816</td>\n",
              "      <td>-0.022816</td>\n",
              "      <td>-0.022816</td>\n",
              "      <td>-0.022816</td>\n",
              "      <td>-0.022816</td>\n",
              "    </tr>\n",
              "    <tr>\n",
              "      <th>2</th>\n",
              "      <td>-0.358744</td>\n",
              "      <td>-0.047525</td>\n",
              "      <td>-0.032275</td>\n",
              "      <td>-0.022816</td>\n",
              "      <td>-0.022816</td>\n",
              "      <td>-0.022816</td>\n",
              "      <td>-0.022816</td>\n",
              "      <td>-0.022816</td>\n",
              "      <td>-0.022816</td>\n",
              "      <td>-0.022816</td>\n",
              "      <td>...</td>\n",
              "      <td>-0.022816</td>\n",
              "      <td>-0.022816</td>\n",
              "      <td>-0.022816</td>\n",
              "      <td>-0.022816</td>\n",
              "      <td>-0.022816</td>\n",
              "      <td>-0.022816</td>\n",
              "      <td>-0.022816</td>\n",
              "      <td>-0.022816</td>\n",
              "      <td>-0.022816</td>\n",
              "      <td>-0.022816</td>\n",
              "    </tr>\n",
              "    <tr>\n",
              "      <th>3</th>\n",
              "      <td>0.193568</td>\n",
              "      <td>-0.047525</td>\n",
              "      <td>-0.032275</td>\n",
              "      <td>-0.022816</td>\n",
              "      <td>-0.022816</td>\n",
              "      <td>-0.022816</td>\n",
              "      <td>-0.022816</td>\n",
              "      <td>-0.022816</td>\n",
              "      <td>-0.022816</td>\n",
              "      <td>-0.022816</td>\n",
              "      <td>...</td>\n",
              "      <td>-0.022816</td>\n",
              "      <td>-0.022816</td>\n",
              "      <td>-0.022816</td>\n",
              "      <td>-0.022816</td>\n",
              "      <td>-0.022816</td>\n",
              "      <td>-0.022816</td>\n",
              "      <td>-0.022816</td>\n",
              "      <td>-0.022816</td>\n",
              "      <td>-0.022816</td>\n",
              "      <td>-0.022816</td>\n",
              "    </tr>\n",
              "    <tr>\n",
              "      <th>4</th>\n",
              "      <td>-0.137819</td>\n",
              "      <td>-0.047525</td>\n",
              "      <td>-0.032275</td>\n",
              "      <td>-0.022816</td>\n",
              "      <td>-0.022816</td>\n",
              "      <td>-0.022816</td>\n",
              "      <td>-0.022816</td>\n",
              "      <td>-0.022816</td>\n",
              "      <td>-0.022816</td>\n",
              "      <td>-0.022816</td>\n",
              "      <td>...</td>\n",
              "      <td>-0.022816</td>\n",
              "      <td>-0.022816</td>\n",
              "      <td>-0.022816</td>\n",
              "      <td>-0.022816</td>\n",
              "      <td>-0.022816</td>\n",
              "      <td>-0.022816</td>\n",
              "      <td>-0.022816</td>\n",
              "      <td>-0.022816</td>\n",
              "      <td>-0.022816</td>\n",
              "      <td>-0.022816</td>\n",
              "    </tr>\n",
              "    <tr>\n",
              "      <th>...</th>\n",
              "      <td>...</td>\n",
              "      <td>...</td>\n",
              "      <td>...</td>\n",
              "      <td>...</td>\n",
              "      <td>...</td>\n",
              "      <td>...</td>\n",
              "      <td>...</td>\n",
              "      <td>...</td>\n",
              "      <td>...</td>\n",
              "      <td>...</td>\n",
              "      <td>...</td>\n",
              "      <td>...</td>\n",
              "      <td>...</td>\n",
              "      <td>...</td>\n",
              "      <td>...</td>\n",
              "      <td>...</td>\n",
              "      <td>...</td>\n",
              "      <td>...</td>\n",
              "      <td>...</td>\n",
              "      <td>...</td>\n",
              "      <td>...</td>\n",
              "    </tr>\n",
              "    <tr>\n",
              "      <th>1917</th>\n",
              "      <td>0.304030</td>\n",
              "      <td>-0.047525</td>\n",
              "      <td>-0.032275</td>\n",
              "      <td>-0.022816</td>\n",
              "      <td>-0.022816</td>\n",
              "      <td>-0.022816</td>\n",
              "      <td>-0.022816</td>\n",
              "      <td>-0.022816</td>\n",
              "      <td>-0.022816</td>\n",
              "      <td>-0.022816</td>\n",
              "      <td>...</td>\n",
              "      <td>-0.022816</td>\n",
              "      <td>-0.022816</td>\n",
              "      <td>-0.022816</td>\n",
              "      <td>-0.022816</td>\n",
              "      <td>-0.022816</td>\n",
              "      <td>-0.022816</td>\n",
              "      <td>-0.022816</td>\n",
              "      <td>-0.022816</td>\n",
              "      <td>-0.022816</td>\n",
              "      <td>-0.022816</td>\n",
              "    </tr>\n",
              "    <tr>\n",
              "      <th>1918</th>\n",
              "      <td>0.193568</td>\n",
              "      <td>-0.047525</td>\n",
              "      <td>-0.032275</td>\n",
              "      <td>-0.022816</td>\n",
              "      <td>-0.022816</td>\n",
              "      <td>-0.022816</td>\n",
              "      <td>-0.022816</td>\n",
              "      <td>-0.022816</td>\n",
              "      <td>-0.022816</td>\n",
              "      <td>-0.022816</td>\n",
              "      <td>...</td>\n",
              "      <td>-0.022816</td>\n",
              "      <td>-0.022816</td>\n",
              "      <td>-0.022816</td>\n",
              "      <td>-0.022816</td>\n",
              "      <td>-0.022816</td>\n",
              "      <td>-0.022816</td>\n",
              "      <td>-0.022816</td>\n",
              "      <td>-0.022816</td>\n",
              "      <td>-0.022816</td>\n",
              "      <td>-0.022816</td>\n",
              "    </tr>\n",
              "    <tr>\n",
              "      <th>1919</th>\n",
              "      <td>-0.800593</td>\n",
              "      <td>-0.047525</td>\n",
              "      <td>-0.032275</td>\n",
              "      <td>-0.022816</td>\n",
              "      <td>-0.022816</td>\n",
              "      <td>-0.022816</td>\n",
              "      <td>-0.022816</td>\n",
              "      <td>-0.022816</td>\n",
              "      <td>-0.022816</td>\n",
              "      <td>-0.022816</td>\n",
              "      <td>...</td>\n",
              "      <td>-0.022816</td>\n",
              "      <td>-0.022816</td>\n",
              "      <td>-0.022816</td>\n",
              "      <td>-0.022816</td>\n",
              "      <td>-0.022816</td>\n",
              "      <td>-0.022816</td>\n",
              "      <td>-0.022816</td>\n",
              "      <td>-0.022816</td>\n",
              "      <td>-0.022816</td>\n",
              "      <td>-0.022816</td>\n",
              "    </tr>\n",
              "    <tr>\n",
              "      <th>1920</th>\n",
              "      <td>-0.800593</td>\n",
              "      <td>-0.047525</td>\n",
              "      <td>-0.032275</td>\n",
              "      <td>-0.022816</td>\n",
              "      <td>-0.022816</td>\n",
              "      <td>-0.022816</td>\n",
              "      <td>-0.022816</td>\n",
              "      <td>-0.022816</td>\n",
              "      <td>-0.022816</td>\n",
              "      <td>-0.022816</td>\n",
              "      <td>...</td>\n",
              "      <td>-0.022816</td>\n",
              "      <td>-0.022816</td>\n",
              "      <td>-0.022816</td>\n",
              "      <td>-0.022816</td>\n",
              "      <td>-0.022816</td>\n",
              "      <td>-0.022816</td>\n",
              "      <td>-0.022816</td>\n",
              "      <td>-0.022816</td>\n",
              "      <td>-0.022816</td>\n",
              "      <td>-0.022816</td>\n",
              "    </tr>\n",
              "    <tr>\n",
              "      <th>1921</th>\n",
              "      <td>-1.905217</td>\n",
              "      <td>0.002268</td>\n",
              "      <td>-0.032275</td>\n",
              "      <td>-0.022816</td>\n",
              "      <td>-0.022816</td>\n",
              "      <td>-0.022816</td>\n",
              "      <td>-0.022816</td>\n",
              "      <td>-0.022816</td>\n",
              "      <td>-0.022816</td>\n",
              "      <td>-0.022816</td>\n",
              "      <td>...</td>\n",
              "      <td>-0.022816</td>\n",
              "      <td>-0.022816</td>\n",
              "      <td>-0.022816</td>\n",
              "      <td>-0.022816</td>\n",
              "      <td>-0.022816</td>\n",
              "      <td>-0.022816</td>\n",
              "      <td>-0.022816</td>\n",
              "      <td>-0.022816</td>\n",
              "      <td>-0.022816</td>\n",
              "      <td>-0.022816</td>\n",
              "    </tr>\n",
              "  </tbody>\n",
              "</table>\n",
              "<p>1922 rows × 1908 columns</p>\n",
              "</div>\n",
              "      <button class=\"colab-df-convert\" onclick=\"convertToInteractive('df-c95f90f5-2d89-4e5a-afc4-7d9fa218b65c')\"\n",
              "              title=\"Convert this dataframe to an interactive table.\"\n",
              "              style=\"display:none;\">\n",
              "        \n",
              "  <svg xmlns=\"http://www.w3.org/2000/svg\" height=\"24px\"viewBox=\"0 0 24 24\"\n",
              "       width=\"24px\">\n",
              "    <path d=\"M0 0h24v24H0V0z\" fill=\"none\"/>\n",
              "    <path d=\"M18.56 5.44l.94 2.06.94-2.06 2.06-.94-2.06-.94-.94-2.06-.94 2.06-2.06.94zm-11 1L8.5 8.5l.94-2.06 2.06-.94-2.06-.94L8.5 2.5l-.94 2.06-2.06.94zm10 10l.94 2.06.94-2.06 2.06-.94-2.06-.94-.94-2.06-.94 2.06-2.06.94z\"/><path d=\"M17.41 7.96l-1.37-1.37c-.4-.4-.92-.59-1.43-.59-.52 0-1.04.2-1.43.59L10.3 9.45l-7.72 7.72c-.78.78-.78 2.05 0 2.83L4 21.41c.39.39.9.59 1.41.59.51 0 1.02-.2 1.41-.59l7.78-7.78 2.81-2.81c.8-.78.8-2.07 0-2.86zM5.41 20L4 18.59l7.72-7.72 1.47 1.35L5.41 20z\"/>\n",
              "  </svg>\n",
              "      </button>\n",
              "      \n",
              "  <style>\n",
              "    .colab-df-container {\n",
              "      display:flex;\n",
              "      flex-wrap:wrap;\n",
              "      gap: 12px;\n",
              "    }\n",
              "\n",
              "    .colab-df-convert {\n",
              "      background-color: #E8F0FE;\n",
              "      border: none;\n",
              "      border-radius: 50%;\n",
              "      cursor: pointer;\n",
              "      display: none;\n",
              "      fill: #1967D2;\n",
              "      height: 32px;\n",
              "      padding: 0 0 0 0;\n",
              "      width: 32px;\n",
              "    }\n",
              "\n",
              "    .colab-df-convert:hover {\n",
              "      background-color: #E2EBFA;\n",
              "      box-shadow: 0px 1px 2px rgba(60, 64, 67, 0.3), 0px 1px 3px 1px rgba(60, 64, 67, 0.15);\n",
              "      fill: #174EA6;\n",
              "    }\n",
              "\n",
              "    [theme=dark] .colab-df-convert {\n",
              "      background-color: #3B4455;\n",
              "      fill: #D2E3FC;\n",
              "    }\n",
              "\n",
              "    [theme=dark] .colab-df-convert:hover {\n",
              "      background-color: #434B5C;\n",
              "      box-shadow: 0px 1px 3px 1px rgba(0, 0, 0, 0.15);\n",
              "      filter: drop-shadow(0px 1px 2px rgba(0, 0, 0, 0.3));\n",
              "      fill: #FFFFFF;\n",
              "    }\n",
              "  </style>\n",
              "\n",
              "      <script>\n",
              "        const buttonEl =\n",
              "          document.querySelector('#df-c95f90f5-2d89-4e5a-afc4-7d9fa218b65c button.colab-df-convert');\n",
              "        buttonEl.style.display =\n",
              "          google.colab.kernel.accessAllowed ? 'block' : 'none';\n",
              "\n",
              "        async function convertToInteractive(key) {\n",
              "          const element = document.querySelector('#df-c95f90f5-2d89-4e5a-afc4-7d9fa218b65c');\n",
              "          const dataTable =\n",
              "            await google.colab.kernel.invokeFunction('convertToInteractive',\n",
              "                                                     [key], {});\n",
              "          if (!dataTable) return;\n",
              "\n",
              "          const docLinkHtml = 'Like what you see? Visit the ' +\n",
              "            '<a target=\"_blank\" href=https://colab.research.google.com/notebooks/data_table.ipynb>data table notebook</a>'\n",
              "            + ' to learn more about interactive tables.';\n",
              "          element.innerHTML = '';\n",
              "          dataTable['output_type'] = 'display_data';\n",
              "          await google.colab.output.renderOutput(dataTable, element);\n",
              "          const docLink = document.createElement('div');\n",
              "          docLink.innerHTML = docLinkHtml;\n",
              "          element.appendChild(docLink);\n",
              "        }\n",
              "      </script>\n",
              "    </div>\n",
              "  </div>\n",
              "  "
            ]
          },
          "metadata": {},
          "execution_count": 93
        }
      ]
    },
    {
      "cell_type": "markdown",
      "source": [
        "**4.2.2 Normalization**\n",
        "\n",
        "A way to normalize the input features/variables is the Min-Max scaler. By doing so, all features will be transformed into the range [0,1] meaning that the minimum and maximum value of a feature/variable is going to be 0 and 1, respectively.\n",
        "\n",
        "The main idea behind normalization/standardization is always the same. Variables that are measured at different scales do not contribute equally to the model fitting & model learned function and might end up creating a bias. Thus, to deal with this potential problem feature-wise normalization such as MinMax Scaling is usually used prior to model fitting.\n",
        "\n",
        "reference : https://stackoverflow.com/questions/62178888/can-someone-explain-to-me-how-minmaxscaler-works\n"
      ],
      "metadata": {
        "id": "AdhBeaKIFLfN"
      }
    },
    {
      "cell_type": "code",
      "source": [
        "from sklearn.preprocessing import MinMaxScaler\n",
        "x = MinMaxScaler().fit_transform(x)\n",
        "x = pd.DataFrame(x)\n",
        "\n",
        "x"
      ],
      "metadata": {
        "id": "gtFKYb9DlEhV",
        "colab": {
          "base_uri": "https://localhost:8080/",
          "height": 487
        },
        "outputId": "763708f6-58f0-4a19-83fd-1a4d05a8f0fb"
      },
      "execution_count": 94,
      "outputs": [
        {
          "output_type": "execute_result",
          "data": {
            "text/plain": [
              "          0         1     2     3     4     5     6     7     8     9     ...  \\\n",
              "0     0.333333  0.025531   0.0   0.0   0.0   0.0   0.0   0.0   0.0   0.0  ...   \n",
              "1     0.400000  0.032182   0.0   0.0   0.0   0.0   0.0   0.0   0.0   0.0  ...   \n",
              "2     0.400000  0.032182   0.0   0.0   0.0   0.0   0.0   0.0   0.0   0.0  ...   \n",
              "3     0.511111  0.032182   0.0   0.0   0.0   0.0   0.0   0.0   0.0   0.0  ...   \n",
              "4     0.444444  0.032182   0.0   0.0   0.0   0.0   0.0   0.0   0.0   0.0  ...   \n",
              "...        ...       ...   ...   ...   ...   ...   ...   ...   ...   ...  ...   \n",
              "1917  0.533333  0.032182   0.0   0.0   0.0   0.0   0.0   0.0   0.0   0.0  ...   \n",
              "1918  0.511111  0.032182   0.0   0.0   0.0   0.0   0.0   0.0   0.0   0.0  ...   \n",
              "1919  0.311111  0.032182   0.0   0.0   0.0   0.0   0.0   0.0   0.0   0.0  ...   \n",
              "1920  0.311111  0.032182   0.0   0.0   0.0   0.0   0.0   0.0   0.0   0.0  ...   \n",
              "1921  0.088889  0.035512   0.0   0.0   0.0   0.0   0.0   0.0   0.0   0.0  ...   \n",
              "\n",
              "      1898  1899  1900  1901  1902  1903  1904  1905  1906  1907  \n",
              "0      0.0   0.0   0.0   0.0   0.0   0.0   0.0   0.0   0.0   0.0  \n",
              "1      0.0   0.0   0.0   0.0   0.0   0.0   0.0   0.0   0.0   0.0  \n",
              "2      0.0   0.0   0.0   0.0   0.0   0.0   0.0   0.0   0.0   0.0  \n",
              "3      0.0   0.0   0.0   0.0   0.0   0.0   0.0   0.0   0.0   0.0  \n",
              "4      0.0   0.0   0.0   0.0   0.0   0.0   0.0   0.0   0.0   0.0  \n",
              "...    ...   ...   ...   ...   ...   ...   ...   ...   ...   ...  \n",
              "1917   0.0   0.0   0.0   0.0   0.0   0.0   0.0   0.0   0.0   0.0  \n",
              "1918   0.0   0.0   0.0   0.0   0.0   0.0   0.0   0.0   0.0   0.0  \n",
              "1919   0.0   0.0   0.0   0.0   0.0   0.0   0.0   0.0   0.0   0.0  \n",
              "1920   0.0   0.0   0.0   0.0   0.0   0.0   0.0   0.0   0.0   0.0  \n",
              "1921   0.0   0.0   0.0   0.0   0.0   0.0   0.0   0.0   0.0   0.0  \n",
              "\n",
              "[1922 rows x 1908 columns]"
            ],
            "text/html": [
              "\n",
              "  <div id=\"df-e688b590-1694-4033-9a6d-2720332117b4\">\n",
              "    <div class=\"colab-df-container\">\n",
              "      <div>\n",
              "<style scoped>\n",
              "    .dataframe tbody tr th:only-of-type {\n",
              "        vertical-align: middle;\n",
              "    }\n",
              "\n",
              "    .dataframe tbody tr th {\n",
              "        vertical-align: top;\n",
              "    }\n",
              "\n",
              "    .dataframe thead th {\n",
              "        text-align: right;\n",
              "    }\n",
              "</style>\n",
              "<table border=\"1\" class=\"dataframe\">\n",
              "  <thead>\n",
              "    <tr style=\"text-align: right;\">\n",
              "      <th></th>\n",
              "      <th>0</th>\n",
              "      <th>1</th>\n",
              "      <th>2</th>\n",
              "      <th>3</th>\n",
              "      <th>4</th>\n",
              "      <th>5</th>\n",
              "      <th>6</th>\n",
              "      <th>7</th>\n",
              "      <th>8</th>\n",
              "      <th>9</th>\n",
              "      <th>...</th>\n",
              "      <th>1898</th>\n",
              "      <th>1899</th>\n",
              "      <th>1900</th>\n",
              "      <th>1901</th>\n",
              "      <th>1902</th>\n",
              "      <th>1903</th>\n",
              "      <th>1904</th>\n",
              "      <th>1905</th>\n",
              "      <th>1906</th>\n",
              "      <th>1907</th>\n",
              "    </tr>\n",
              "  </thead>\n",
              "  <tbody>\n",
              "    <tr>\n",
              "      <th>0</th>\n",
              "      <td>0.333333</td>\n",
              "      <td>0.025531</td>\n",
              "      <td>0.0</td>\n",
              "      <td>0.0</td>\n",
              "      <td>0.0</td>\n",
              "      <td>0.0</td>\n",
              "      <td>0.0</td>\n",
              "      <td>0.0</td>\n",
              "      <td>0.0</td>\n",
              "      <td>0.0</td>\n",
              "      <td>...</td>\n",
              "      <td>0.0</td>\n",
              "      <td>0.0</td>\n",
              "      <td>0.0</td>\n",
              "      <td>0.0</td>\n",
              "      <td>0.0</td>\n",
              "      <td>0.0</td>\n",
              "      <td>0.0</td>\n",
              "      <td>0.0</td>\n",
              "      <td>0.0</td>\n",
              "      <td>0.0</td>\n",
              "    </tr>\n",
              "    <tr>\n",
              "      <th>1</th>\n",
              "      <td>0.400000</td>\n",
              "      <td>0.032182</td>\n",
              "      <td>0.0</td>\n",
              "      <td>0.0</td>\n",
              "      <td>0.0</td>\n",
              "      <td>0.0</td>\n",
              "      <td>0.0</td>\n",
              "      <td>0.0</td>\n",
              "      <td>0.0</td>\n",
              "      <td>0.0</td>\n",
              "      <td>...</td>\n",
              "      <td>0.0</td>\n",
              "      <td>0.0</td>\n",
              "      <td>0.0</td>\n",
              "      <td>0.0</td>\n",
              "      <td>0.0</td>\n",
              "      <td>0.0</td>\n",
              "      <td>0.0</td>\n",
              "      <td>0.0</td>\n",
              "      <td>0.0</td>\n",
              "      <td>0.0</td>\n",
              "    </tr>\n",
              "    <tr>\n",
              "      <th>2</th>\n",
              "      <td>0.400000</td>\n",
              "      <td>0.032182</td>\n",
              "      <td>0.0</td>\n",
              "      <td>0.0</td>\n",
              "      <td>0.0</td>\n",
              "      <td>0.0</td>\n",
              "      <td>0.0</td>\n",
              "      <td>0.0</td>\n",
              "      <td>0.0</td>\n",
              "      <td>0.0</td>\n",
              "      <td>...</td>\n",
              "      <td>0.0</td>\n",
              "      <td>0.0</td>\n",
              "      <td>0.0</td>\n",
              "      <td>0.0</td>\n",
              "      <td>0.0</td>\n",
              "      <td>0.0</td>\n",
              "      <td>0.0</td>\n",
              "      <td>0.0</td>\n",
              "      <td>0.0</td>\n",
              "      <td>0.0</td>\n",
              "    </tr>\n",
              "    <tr>\n",
              "      <th>3</th>\n",
              "      <td>0.511111</td>\n",
              "      <td>0.032182</td>\n",
              "      <td>0.0</td>\n",
              "      <td>0.0</td>\n",
              "      <td>0.0</td>\n",
              "      <td>0.0</td>\n",
              "      <td>0.0</td>\n",
              "      <td>0.0</td>\n",
              "      <td>0.0</td>\n",
              "      <td>0.0</td>\n",
              "      <td>...</td>\n",
              "      <td>0.0</td>\n",
              "      <td>0.0</td>\n",
              "      <td>0.0</td>\n",
              "      <td>0.0</td>\n",
              "      <td>0.0</td>\n",
              "      <td>0.0</td>\n",
              "      <td>0.0</td>\n",
              "      <td>0.0</td>\n",
              "      <td>0.0</td>\n",
              "      <td>0.0</td>\n",
              "    </tr>\n",
              "    <tr>\n",
              "      <th>4</th>\n",
              "      <td>0.444444</td>\n",
              "      <td>0.032182</td>\n",
              "      <td>0.0</td>\n",
              "      <td>0.0</td>\n",
              "      <td>0.0</td>\n",
              "      <td>0.0</td>\n",
              "      <td>0.0</td>\n",
              "      <td>0.0</td>\n",
              "      <td>0.0</td>\n",
              "      <td>0.0</td>\n",
              "      <td>...</td>\n",
              "      <td>0.0</td>\n",
              "      <td>0.0</td>\n",
              "      <td>0.0</td>\n",
              "      <td>0.0</td>\n",
              "      <td>0.0</td>\n",
              "      <td>0.0</td>\n",
              "      <td>0.0</td>\n",
              "      <td>0.0</td>\n",
              "      <td>0.0</td>\n",
              "      <td>0.0</td>\n",
              "    </tr>\n",
              "    <tr>\n",
              "      <th>...</th>\n",
              "      <td>...</td>\n",
              "      <td>...</td>\n",
              "      <td>...</td>\n",
              "      <td>...</td>\n",
              "      <td>...</td>\n",
              "      <td>...</td>\n",
              "      <td>...</td>\n",
              "      <td>...</td>\n",
              "      <td>...</td>\n",
              "      <td>...</td>\n",
              "      <td>...</td>\n",
              "      <td>...</td>\n",
              "      <td>...</td>\n",
              "      <td>...</td>\n",
              "      <td>...</td>\n",
              "      <td>...</td>\n",
              "      <td>...</td>\n",
              "      <td>...</td>\n",
              "      <td>...</td>\n",
              "      <td>...</td>\n",
              "      <td>...</td>\n",
              "    </tr>\n",
              "    <tr>\n",
              "      <th>1917</th>\n",
              "      <td>0.533333</td>\n",
              "      <td>0.032182</td>\n",
              "      <td>0.0</td>\n",
              "      <td>0.0</td>\n",
              "      <td>0.0</td>\n",
              "      <td>0.0</td>\n",
              "      <td>0.0</td>\n",
              "      <td>0.0</td>\n",
              "      <td>0.0</td>\n",
              "      <td>0.0</td>\n",
              "      <td>...</td>\n",
              "      <td>0.0</td>\n",
              "      <td>0.0</td>\n",
              "      <td>0.0</td>\n",
              "      <td>0.0</td>\n",
              "      <td>0.0</td>\n",
              "      <td>0.0</td>\n",
              "      <td>0.0</td>\n",
              "      <td>0.0</td>\n",
              "      <td>0.0</td>\n",
              "      <td>0.0</td>\n",
              "    </tr>\n",
              "    <tr>\n",
              "      <th>1918</th>\n",
              "      <td>0.511111</td>\n",
              "      <td>0.032182</td>\n",
              "      <td>0.0</td>\n",
              "      <td>0.0</td>\n",
              "      <td>0.0</td>\n",
              "      <td>0.0</td>\n",
              "      <td>0.0</td>\n",
              "      <td>0.0</td>\n",
              "      <td>0.0</td>\n",
              "      <td>0.0</td>\n",
              "      <td>...</td>\n",
              "      <td>0.0</td>\n",
              "      <td>0.0</td>\n",
              "      <td>0.0</td>\n",
              "      <td>0.0</td>\n",
              "      <td>0.0</td>\n",
              "      <td>0.0</td>\n",
              "      <td>0.0</td>\n",
              "      <td>0.0</td>\n",
              "      <td>0.0</td>\n",
              "      <td>0.0</td>\n",
              "    </tr>\n",
              "    <tr>\n",
              "      <th>1919</th>\n",
              "      <td>0.311111</td>\n",
              "      <td>0.032182</td>\n",
              "      <td>0.0</td>\n",
              "      <td>0.0</td>\n",
              "      <td>0.0</td>\n",
              "      <td>0.0</td>\n",
              "      <td>0.0</td>\n",
              "      <td>0.0</td>\n",
              "      <td>0.0</td>\n",
              "      <td>0.0</td>\n",
              "      <td>...</td>\n",
              "      <td>0.0</td>\n",
              "      <td>0.0</td>\n",
              "      <td>0.0</td>\n",
              "      <td>0.0</td>\n",
              "      <td>0.0</td>\n",
              "      <td>0.0</td>\n",
              "      <td>0.0</td>\n",
              "      <td>0.0</td>\n",
              "      <td>0.0</td>\n",
              "      <td>0.0</td>\n",
              "    </tr>\n",
              "    <tr>\n",
              "      <th>1920</th>\n",
              "      <td>0.311111</td>\n",
              "      <td>0.032182</td>\n",
              "      <td>0.0</td>\n",
              "      <td>0.0</td>\n",
              "      <td>0.0</td>\n",
              "      <td>0.0</td>\n",
              "      <td>0.0</td>\n",
              "      <td>0.0</td>\n",
              "      <td>0.0</td>\n",
              "      <td>0.0</td>\n",
              "      <td>...</td>\n",
              "      <td>0.0</td>\n",
              "      <td>0.0</td>\n",
              "      <td>0.0</td>\n",
              "      <td>0.0</td>\n",
              "      <td>0.0</td>\n",
              "      <td>0.0</td>\n",
              "      <td>0.0</td>\n",
              "      <td>0.0</td>\n",
              "      <td>0.0</td>\n",
              "      <td>0.0</td>\n",
              "    </tr>\n",
              "    <tr>\n",
              "      <th>1921</th>\n",
              "      <td>0.088889</td>\n",
              "      <td>0.035512</td>\n",
              "      <td>0.0</td>\n",
              "      <td>0.0</td>\n",
              "      <td>0.0</td>\n",
              "      <td>0.0</td>\n",
              "      <td>0.0</td>\n",
              "      <td>0.0</td>\n",
              "      <td>0.0</td>\n",
              "      <td>0.0</td>\n",
              "      <td>...</td>\n",
              "      <td>0.0</td>\n",
              "      <td>0.0</td>\n",
              "      <td>0.0</td>\n",
              "      <td>0.0</td>\n",
              "      <td>0.0</td>\n",
              "      <td>0.0</td>\n",
              "      <td>0.0</td>\n",
              "      <td>0.0</td>\n",
              "      <td>0.0</td>\n",
              "      <td>0.0</td>\n",
              "    </tr>\n",
              "  </tbody>\n",
              "</table>\n",
              "<p>1922 rows × 1908 columns</p>\n",
              "</div>\n",
              "      <button class=\"colab-df-convert\" onclick=\"convertToInteractive('df-e688b590-1694-4033-9a6d-2720332117b4')\"\n",
              "              title=\"Convert this dataframe to an interactive table.\"\n",
              "              style=\"display:none;\">\n",
              "        \n",
              "  <svg xmlns=\"http://www.w3.org/2000/svg\" height=\"24px\"viewBox=\"0 0 24 24\"\n",
              "       width=\"24px\">\n",
              "    <path d=\"M0 0h24v24H0V0z\" fill=\"none\"/>\n",
              "    <path d=\"M18.56 5.44l.94 2.06.94-2.06 2.06-.94-2.06-.94-.94-2.06-.94 2.06-2.06.94zm-11 1L8.5 8.5l.94-2.06 2.06-.94-2.06-.94L8.5 2.5l-.94 2.06-2.06.94zm10 10l.94 2.06.94-2.06 2.06-.94-2.06-.94-.94-2.06-.94 2.06-2.06.94z\"/><path d=\"M17.41 7.96l-1.37-1.37c-.4-.4-.92-.59-1.43-.59-.52 0-1.04.2-1.43.59L10.3 9.45l-7.72 7.72c-.78.78-.78 2.05 0 2.83L4 21.41c.39.39.9.59 1.41.59.51 0 1.02-.2 1.41-.59l7.78-7.78 2.81-2.81c.8-.78.8-2.07 0-2.86zM5.41 20L4 18.59l7.72-7.72 1.47 1.35L5.41 20z\"/>\n",
              "  </svg>\n",
              "      </button>\n",
              "      \n",
              "  <style>\n",
              "    .colab-df-container {\n",
              "      display:flex;\n",
              "      flex-wrap:wrap;\n",
              "      gap: 12px;\n",
              "    }\n",
              "\n",
              "    .colab-df-convert {\n",
              "      background-color: #E8F0FE;\n",
              "      border: none;\n",
              "      border-radius: 50%;\n",
              "      cursor: pointer;\n",
              "      display: none;\n",
              "      fill: #1967D2;\n",
              "      height: 32px;\n",
              "      padding: 0 0 0 0;\n",
              "      width: 32px;\n",
              "    }\n",
              "\n",
              "    .colab-df-convert:hover {\n",
              "      background-color: #E2EBFA;\n",
              "      box-shadow: 0px 1px 2px rgba(60, 64, 67, 0.3), 0px 1px 3px 1px rgba(60, 64, 67, 0.15);\n",
              "      fill: #174EA6;\n",
              "    }\n",
              "\n",
              "    [theme=dark] .colab-df-convert {\n",
              "      background-color: #3B4455;\n",
              "      fill: #D2E3FC;\n",
              "    }\n",
              "\n",
              "    [theme=dark] .colab-df-convert:hover {\n",
              "      background-color: #434B5C;\n",
              "      box-shadow: 0px 1px 3px 1px rgba(0, 0, 0, 0.15);\n",
              "      filter: drop-shadow(0px 1px 2px rgba(0, 0, 0, 0.3));\n",
              "      fill: #FFFFFF;\n",
              "    }\n",
              "  </style>\n",
              "\n",
              "      <script>\n",
              "        const buttonEl =\n",
              "          document.querySelector('#df-e688b590-1694-4033-9a6d-2720332117b4 button.colab-df-convert');\n",
              "        buttonEl.style.display =\n",
              "          google.colab.kernel.accessAllowed ? 'block' : 'none';\n",
              "\n",
              "        async function convertToInteractive(key) {\n",
              "          const element = document.querySelector('#df-e688b590-1694-4033-9a6d-2720332117b4');\n",
              "          const dataTable =\n",
              "            await google.colab.kernel.invokeFunction('convertToInteractive',\n",
              "                                                     [key], {});\n",
              "          if (!dataTable) return;\n",
              "\n",
              "          const docLinkHtml = 'Like what you see? Visit the ' +\n",
              "            '<a target=\"_blank\" href=https://colab.research.google.com/notebooks/data_table.ipynb>data table notebook</a>'\n",
              "            + ' to learn more about interactive tables.';\n",
              "          element.innerHTML = '';\n",
              "          dataTable['output_type'] = 'display_data';\n",
              "          await google.colab.output.renderOutput(dataTable, element);\n",
              "          const docLink = document.createElement('div');\n",
              "          docLink.innerHTML = docLinkHtml;\n",
              "          element.appendChild(docLink);\n",
              "        }\n",
              "      </script>\n",
              "    </div>\n",
              "  </div>\n",
              "  "
            ]
          },
          "metadata": {},
          "execution_count": 94
        }
      ]
    },
    {
      "cell_type": "markdown",
      "source": [
        "**4.3 Splitting**"
      ],
      "metadata": {
        "id": "U5mVChyqI7e9"
      }
    },
    {
      "cell_type": "code",
      "source": [
        "from sklearn.model_selection import train_test_split\n",
        "xTrain, xTest, yTrain, yTest = train_test_split(x, y, train_size=0.8, random_state=1, stratify=y)"
      ],
      "metadata": {
        "id": "ACJMGLAHigHI"
      },
      "execution_count": 95,
      "outputs": []
    },
    {
      "cell_type": "code",
      "source": [
        "from collections import Counter\n",
        "print(\"Train distribution\", Counter(yTrain))\n",
        "print(\"Test distribution\", Counter(yTest))"
      ],
      "metadata": {
        "colab": {
          "base_uri": "https://localhost:8080/"
        },
        "id": "sSICmqDpMomI",
        "outputId": "edd0bbf5-de70-45b2-8885-2c5dc64f01a7"
      },
      "execution_count": 96,
      "outputs": [
        {
          "output_type": "stream",
          "name": "stdout",
          "text": [
            "Train distribution Counter({20: 102, 17: 99, 23: 94, 21: 86, 18: 86, 16: 76, 22: 67, 25: 64, 19: 63, 31: 58, 26: 54, 15: 50, 29: 47, 24: 47, 14: 46, 27: 43, 36: 40, 33: 32, 28: 31, 41: 28, 46: 26, 13: 24, 30: 22, 35: 18, 37: 18, 12: 18, 43: 16, 11: 14, 34: 14, 39: 14, 9: 14, 5: 14, 40: 11, 32: 11, 6: 10, 7: 10, 47: 9, 8: 8, 38: 8, 1: 7, 44: 7, 3: 6, 10: 6, 4: 6, 2: 5, 45: 5, 42: 3})\n",
            "Test distribution Counter({20: 26, 17: 25, 23: 23, 21: 22, 18: 21, 16: 19, 22: 17, 25: 16, 19: 16, 31: 15, 26: 14, 15: 13, 29: 12, 14: 12, 24: 12, 27: 11, 36: 10, 33: 8, 28: 8, 41: 7, 13: 6, 46: 6, 30: 5, 37: 5, 43: 4, 12: 4, 11: 4, 9: 4, 34: 4, 35: 4, 6: 3, 40: 3, 32: 3, 5: 3, 39: 3, 8: 2, 7: 2, 38: 2, 47: 2, 44: 2, 3: 2, 10: 1, 4: 1, 1: 1, 45: 1, 2: 1})\n"
          ]
        }
      ]
    },
    {
      "cell_type": "markdown",
      "source": [
        "This stratify parameter makes a split so that the proportion of values in the sample produced will be the same as the proportion of values provided to parameter stratify.\n",
        "\n",
        "For example, if variable y is a binary categorical variable with values 0 and 1 and there are 25% of zeros and 75% of ones, stratify=y will make sure that your random split has 25% of 0's and 75% of 1's.\n",
        "\n",
        "For more: https://stackoverflow.com/questions/34842405/parameter-stratify-from-method-train-test-split-scikit-learn"
      ],
      "metadata": {
        "id": "QyCbWtbCI3v5"
      }
    },
    {
      "cell_type": "markdown",
      "source": [
        "Tugas praktekkan dengan dataset yg berbeda dari kaggle dan upload di github\n"
      ],
      "metadata": {
        "id": "an04NDqXOUHT"
      }
    },
    {
      "cell_type": "code",
      "source": [
        "from sklearn.linear_model import LogisticRegression\n",
        "\n",
        "models = []\n",
        "models.append(('LR', LogisticRegression()))"
      ],
      "metadata": {
        "id": "-9rDCS2vNw0D"
      },
      "execution_count": 97,
      "outputs": []
    },
    {
      "cell_type": "code",
      "source": [
        " results_c = []\n",
        "names_c = []\n",
        "\n",
        "for name, model in models:\n",
        "    # define how to split off validation data ('kfold' how many folds)\n",
        "    kfold = KFold(n_splits=10)    \n",
        "    # train the model\n",
        "    cv_results = cross_val_score(model, xTrain, yTrain, cv=kfold, scoring='accuracy')    \n",
        "    results_c.append(cv_results)\n",
        "    names_c.append(name)\n",
        "    msg = \"%s: %f (%f)\" % (name, cv_results.mean(), cv_results.std())\n",
        "    print(msg)"
      ],
      "metadata": {
        "colab": {
          "base_uri": "https://localhost:8080/"
        },
        "id": "4_yApp8fqKar",
        "outputId": "7a3ad3d2-112f-4114-9a77-12a2fcee862f"
      },
      "execution_count": 98,
      "outputs": [
        {
          "output_type": "stream",
          "name": "stdout",
          "text": [
            "LR: 0.109995 (0.054553)\n"
          ]
        }
      ]
    },
    {
      "cell_type": "code",
      "source": [
        "LR = LogisticRegression()\n",
        "LR.fit(xTrain, yTrain)"
      ],
      "metadata": {
        "colab": {
          "base_uri": "https://localhost:8080/",
          "height": 74
        },
        "id": "xQ1qS0elrBK6",
        "outputId": "81871d5e-daaf-4b3a-bc9b-fca8c5a4e044"
      },
      "execution_count": 99,
      "outputs": [
        {
          "output_type": "execute_result",
          "data": {
            "text/plain": [
              "LogisticRegression()"
            ],
            "text/html": [
              "<style>#sk-container-id-3 {color: black;background-color: white;}#sk-container-id-3 pre{padding: 0;}#sk-container-id-3 div.sk-toggleable {background-color: white;}#sk-container-id-3 label.sk-toggleable__label {cursor: pointer;display: block;width: 100%;margin-bottom: 0;padding: 0.3em;box-sizing: border-box;text-align: center;}#sk-container-id-3 label.sk-toggleable__label-arrow:before {content: \"▸\";float: left;margin-right: 0.25em;color: #696969;}#sk-container-id-3 label.sk-toggleable__label-arrow:hover:before {color: black;}#sk-container-id-3 div.sk-estimator:hover label.sk-toggleable__label-arrow:before {color: black;}#sk-container-id-3 div.sk-toggleable__content {max-height: 0;max-width: 0;overflow: hidden;text-align: left;background-color: #f0f8ff;}#sk-container-id-3 div.sk-toggleable__content pre {margin: 0.2em;color: black;border-radius: 0.25em;background-color: #f0f8ff;}#sk-container-id-3 input.sk-toggleable__control:checked~div.sk-toggleable__content {max-height: 200px;max-width: 100%;overflow: auto;}#sk-container-id-3 input.sk-toggleable__control:checked~label.sk-toggleable__label-arrow:before {content: \"▾\";}#sk-container-id-3 div.sk-estimator input.sk-toggleable__control:checked~label.sk-toggleable__label {background-color: #d4ebff;}#sk-container-id-3 div.sk-label input.sk-toggleable__control:checked~label.sk-toggleable__label {background-color: #d4ebff;}#sk-container-id-3 input.sk-hidden--visually {border: 0;clip: rect(1px 1px 1px 1px);clip: rect(1px, 1px, 1px, 1px);height: 1px;margin: -1px;overflow: hidden;padding: 0;position: absolute;width: 1px;}#sk-container-id-3 div.sk-estimator {font-family: monospace;background-color: #f0f8ff;border: 1px dotted black;border-radius: 0.25em;box-sizing: border-box;margin-bottom: 0.5em;}#sk-container-id-3 div.sk-estimator:hover {background-color: #d4ebff;}#sk-container-id-3 div.sk-parallel-item::after {content: \"\";width: 100%;border-bottom: 1px solid gray;flex-grow: 1;}#sk-container-id-3 div.sk-label:hover label.sk-toggleable__label {background-color: #d4ebff;}#sk-container-id-3 div.sk-serial::before {content: \"\";position: absolute;border-left: 1px solid gray;box-sizing: border-box;top: 0;bottom: 0;left: 50%;z-index: 0;}#sk-container-id-3 div.sk-serial {display: flex;flex-direction: column;align-items: center;background-color: white;padding-right: 0.2em;padding-left: 0.2em;position: relative;}#sk-container-id-3 div.sk-item {position: relative;z-index: 1;}#sk-container-id-3 div.sk-parallel {display: flex;align-items: stretch;justify-content: center;background-color: white;position: relative;}#sk-container-id-3 div.sk-item::before, #sk-container-id-3 div.sk-parallel-item::before {content: \"\";position: absolute;border-left: 1px solid gray;box-sizing: border-box;top: 0;bottom: 0;left: 50%;z-index: -1;}#sk-container-id-3 div.sk-parallel-item {display: flex;flex-direction: column;z-index: 1;position: relative;background-color: white;}#sk-container-id-3 div.sk-parallel-item:first-child::after {align-self: flex-end;width: 50%;}#sk-container-id-3 div.sk-parallel-item:last-child::after {align-self: flex-start;width: 50%;}#sk-container-id-3 div.sk-parallel-item:only-child::after {width: 0;}#sk-container-id-3 div.sk-dashed-wrapped {border: 1px dashed gray;margin: 0 0.4em 0.5em 0.4em;box-sizing: border-box;padding-bottom: 0.4em;background-color: white;}#sk-container-id-3 div.sk-label label {font-family: monospace;font-weight: bold;display: inline-block;line-height: 1.2em;}#sk-container-id-3 div.sk-label-container {text-align: center;}#sk-container-id-3 div.sk-container {/* jupyter's `normalize.less` sets `[hidden] { display: none; }` but bootstrap.min.css set `[hidden] { display: none !important; }` so we also need the `!important` here to be able to override the default hidden behavior on the sphinx rendered scikit-learn.org. See: https://github.com/scikit-learn/scikit-learn/issues/21755 */display: inline-block !important;position: relative;}#sk-container-id-3 div.sk-text-repr-fallback {display: none;}</style><div id=\"sk-container-id-3\" class=\"sk-top-container\"><div class=\"sk-text-repr-fallback\"><pre>LogisticRegression()</pre><b>In a Jupyter environment, please rerun this cell to show the HTML representation or trust the notebook. <br />On GitHub, the HTML representation is unable to render, please try loading this page with nbviewer.org.</b></div><div class=\"sk-container\" hidden><div class=\"sk-item\"><div class=\"sk-estimator sk-toggleable\"><input class=\"sk-toggleable__control sk-hidden--visually\" id=\"sk-estimator-id-3\" type=\"checkbox\" checked><label for=\"sk-estimator-id-3\" class=\"sk-toggleable__label sk-toggleable__label-arrow\">LogisticRegression</label><div class=\"sk-toggleable__content\"><pre>LogisticRegression()</pre></div></div></div></div></div>"
            ]
          },
          "metadata": {},
          "execution_count": 99
        }
      ]
    },
    {
      "cell_type": "code",
      "source": [
        "predictions = LR.predict(xTest)\n",
        "print(accuracy_score(yTest, predictions))"
      ],
      "metadata": {
        "id": "08s4bURXrm0U",
        "colab": {
          "base_uri": "https://localhost:8080/"
        },
        "outputId": "1fb5fcd8-9d20-43a9-fe01-5cad104df760"
      },
      "execution_count": 100,
      "outputs": [
        {
          "output_type": "stream",
          "name": "stdout",
          "text": [
            "0.14805194805194805\n"
          ]
        }
      ]
    },
    {
      "cell_type": "code",
      "source": [
        "# Confusion Matrix \n",
        "from sklearn.metrics import confusion_matrix\n",
        "import pylab as pl\n",
        "\n",
        "print(confusion_matrix(yTest, predictions))\n",
        "\n",
        "cm = confusion_matrix(yTest, predictions)\n",
        "pl.matshow(cm)\n",
        "pl.title('Confusion matrix of the classifier')\n",
        "pl.colorbar()\n",
        "pl.show()"
      ],
      "metadata": {
        "colab": {
          "base_uri": "https://localhost:8080/",
          "height": 793
        },
        "id": "Wh2-d2uCr17a",
        "outputId": "85b773f7-2e90-4b28-a3e0-31f7aedc8fff"
      },
      "execution_count": 101,
      "outputs": [
        {
          "output_type": "stream",
          "name": "stdout",
          "text": [
            "[[0 0 0 ... 0 0 0]\n",
            " [0 0 0 ... 0 0 0]\n",
            " [0 0 0 ... 0 0 0]\n",
            " ...\n",
            " [0 0 0 ... 0 1 0]\n",
            " [0 0 0 ... 0 6 0]\n",
            " [0 0 0 ... 0 2 0]]\n"
          ]
        },
        {
          "output_type": "display_data",
          "data": {
            "text/plain": [
              "<Figure size 800x800 with 2 Axes>"
            ],
            "image/png": "[encoded data removed]"
          },
          "metadata": {}
        }
      ]
    },
    {
      "cell_type": "markdown",
      "source": [
        "dari data diatas kita dapat mengetahui yaitu True Positive ,true negative,false postive,dan false negative"
      ],
      "metadata": {
        "id": "GySjzb5jmMAH"
      }
    },
    {
      "cell_type": "code",
      "source": [
        "# Classification Report\n",
        "from sklearn.metrics import classification_report\n",
        "print(classification_report(yTest, predictions))"
      ],
      "metadata": {
        "colab": {
          "base_uri": "https://localhost:8080/"
        },
        "id": "gL6HppHzsRBw",
        "outputId": "ee0dd04b-253e-4b32-b638-b136dadfb6f5"
      },
      "execution_count": 102,
      "outputs": [
        {
          "output_type": "stream",
          "name": "stdout",
          "text": [
            "              precision    recall  f1-score   support\n",
            "\n",
            "           1       0.00      0.00      0.00         1\n",
            "           2       0.00      0.00      0.00         1\n",
            "           3       0.00      0.00      0.00         2\n",
            "           4       0.00      0.00      0.00         1\n",
            "           5       0.00      0.00      0.00         3\n",
            "           6       0.00      0.00      0.00         3\n",
            "           7       0.00      0.00      0.00         2\n",
            "           8       0.00      0.00      0.00         2\n",
            "           9       0.00      0.00      0.00         4\n",
            "          10       0.00      0.00      0.00         1\n",
            "          11       0.00      0.00      0.00         4\n",
            "          12       0.00      0.00      0.00         4\n",
            "          13       0.00      0.00      0.00         6\n",
            "          14       0.00      0.00      0.00        12\n",
            "          15       0.00      0.00      0.00        13\n",
            "          16       0.00      0.00      0.00        19\n",
            "          17       0.20      1.00      0.34        25\n",
            "          18       0.00      0.00      0.00        21\n",
            "          19       0.00      0.00      0.00        16\n",
            "          20       0.23      1.00      0.37        26\n",
            "          21       0.00      0.00      0.00        22\n",
            "          22       0.00      0.00      0.00        17\n",
            "          23       0.00      0.00      0.00        23\n",
            "          24       0.00      0.00      0.00        12\n",
            "          25       0.00      0.00      0.00        16\n",
            "          26       0.00      0.00      0.00        14\n",
            "          27       0.00      0.00      0.00        11\n",
            "          28       0.00      0.00      0.00         8\n",
            "          29       0.00      0.00      0.00        12\n",
            "          30       0.00      0.00      0.00         5\n",
            "          31       0.00      0.00      0.00        15\n",
            "          32       0.00      0.00      0.00         3\n",
            "          33       0.00      0.00      0.00         8\n",
            "          34       0.00      0.00      0.00         4\n",
            "          35       0.00      0.00      0.00         4\n",
            "          36       0.00      0.00      0.00        10\n",
            "          37       0.00      0.00      0.00         5\n",
            "          38       0.00      0.00      0.00         2\n",
            "          39       0.00      0.00      0.00         3\n",
            "          40       0.00      0.00      0.00         3\n",
            "          41       0.00      0.00      0.00         7\n",
            "          43       0.00      0.00      0.00         4\n",
            "          44       0.00      0.00      0.00         2\n",
            "          45       0.00      0.00      0.00         1\n",
            "          46       0.67      1.00      0.80         6\n",
            "          47       0.00      0.00      0.00         2\n",
            "\n",
            "    accuracy                           0.15       385\n",
            "   macro avg       0.02      0.07      0.03       385\n",
            "weighted avg       0.04      0.15      0.06       385\n",
            "\n"
          ]
        },
        {
          "output_type": "stream",
          "name": "stderr",
          "text": [
            "/usr/local/lib/python3.10/dist-packages/sklearn/metrics/_classification.py:1344: UndefinedMetricWarning: Precision and F-score are ill-defined and being set to 0.0 in labels with no predicted samples. Use `zero_division` parameter to control this behavior.\n",
            "  _warn_prf(average, modifier, msg_start, len(result))\n",
            "/usr/local/lib/python3.10/dist-packages/sklearn/metrics/_classification.py:1344: UndefinedMetricWarning: Precision and F-score are ill-defined and being set to 0.0 in labels with no predicted samples. Use `zero_division` parameter to control this behavior.\n",
            "  _warn_prf(average, modifier, msg_start, len(result))\n",
            "/usr/local/lib/python3.10/dist-packages/sklearn/metrics/_classification.py:1344: UndefinedMetricWarning: Precision and F-score are ill-defined and being set to 0.0 in labels with no predicted samples. Use `zero_division` parameter to control this behavior.\n",
            "  _warn_prf(average, modifier, msg_start, len(result))\n"
          ]
        }
      ]
    },
    {
      "cell_type": "markdown",
      "source": [
        "dari data diatas dapat ditarik kesimpulan didapat hasil precision 0,04,recall 0,15,f1-Score 0,06, dan support 385"
      ],
      "metadata": {
        "id": "tj3jP78gmyBb"
      }
    },
    {
      "cell_type": "markdown",
      "source": [],
      "metadata": {
        "id": "f_EEY32DgUp6"
      }
    },
    {
      "cell_type": "code",
      "execution_count": null,
      "metadata": {
        "id": "OxfpNV63imB-"
      },
      "outputs": [],
      "source": []
    }
  ],
  "metadata": {
    "accelerator": "TPU",
    "colab": {
      "provenance": [],
      "machine_shape": "hm",
      "include_colab_link": true
    },
    "kernelspec": {
      "display_name": "Python 3",
      "name": "python3"
    },
    "gpuClass": "premium"
  },
  "nbformat": 4,
  "nbformat_minor": 0
}